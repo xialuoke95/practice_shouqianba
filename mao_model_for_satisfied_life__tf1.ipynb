{
 "cells": [
  {
   "cell_type": "code",
   "execution_count": 1,
   "metadata": {},
   "outputs": [],
   "source": [
    "import tensorflow as tf\n",
    "import numpy as np\n",
    "from tensorflow import keras\n",
    "from tensorflow.keras.layers import Embedding\n",
    "from tensorflow.keras import Sequential\n",
    "%matplotlib inline\n",
    "import matplotlib.pyplot as plt"
   ]
  },
  {
   "cell_type": "code",
   "execution_count": 2,
   "metadata": {},
   "outputs": [
    {
     "data": {
      "text/plain": [
       "'1.13.1'"
      ]
     },
     "execution_count": 2,
     "metadata": {},
     "output_type": "execute_result"
    }
   ],
   "source": [
    "tf.__version__"
   ]
  },
  {
   "cell_type": "code",
   "execution_count": 2,
   "metadata": {},
   "outputs": [],
   "source": [
    "# 按照固定区间长度绘制频率分布直方图\n",
    "# bins_interval 区间的长度\n",
    "# margin        设定的左边和右边空留的大小\n",
    "def probability_distribution(data, bins_interval=1, margin=1):\n",
    "    bins = range(min(data), max(data) + bins_interval - 1, bins_interval)\n",
    "    print(len(bins))\n",
    "    for i in range(0, len(bins)):\n",
    "        print(bins[i])\n",
    "    plt.xlim(min(data) - margin, max(data) + margin)\n",
    "    plt.title(\"Probability-distribution\")\n",
    "    plt.xlabel('Interval')\n",
    "    plt.ylabel('Probability')\n",
    "    # 频率分布normed=True，频次分布normed=False\n",
    "    prob,left,rectangle = plt.hist(x=data, bins=bins, normed=True, histtype='bar', color=['r'])\n",
    "    for x, y in zip(left, prob):\n",
    "        # 字体上边文字\n",
    "        # 频率分布数据 normed=True\n",
    "        plt.text(x + bins_interval / 2, y + 0.003, '%.2f' % y, ha='center', va='top')\n",
    "        # 频次分布数据 normed=False\n",
    "        # plt.text(x + bins_interval / 2, y + 0.25, '%.2f' % y, ha='center', va='top')\n",
    "    plt.show()"
   ]
  },
  {
   "cell_type": "code",
   "execution_count": null,
   "metadata": {},
   "outputs": [],
   "source": []
  },
  {
   "cell_type": "code",
   "execution_count": null,
   "metadata": {},
   "outputs": [],
   "source": [
    "#======================= Deal Input"
   ]
  },
  {
   "cell_type": "code",
   "execution_count": 3,
   "metadata": {},
   "outputs": [],
   "source": [
    "import pandas as pd"
   ]
  },
  {
   "cell_type": "code",
   "execution_count": 4,
   "metadata": {},
   "outputs": [],
   "source": [
    "data = pd.read_csv(\"/Users/bytedance/LearningProjects/practice_shouqianba/timedata.txt\", sep='\\t')\n",
    "data['satis'] = data['satis'] - 1\n"
   ]
  },
  {
   "cell_type": "code",
   "execution_count": 5,
   "metadata": {},
   "outputs": [
    {
     "name": "stdout",
     "output_type": "stream",
     "text": [
      "6\n",
      "0\n",
      "1\n",
      "2\n",
      "3\n",
      "4\n",
      "5\n"
     ]
    },
    {
     "name": "stderr",
     "output_type": "stream",
     "text": [
      "/Users/bytedance/miniconda3/envs/tf1/lib/python2.7/site-packages/matplotlib/axes/_axes.py:6571: UserWarning: The 'normed' kwarg is deprecated, and has been replaced by the 'density' kwarg.\n",
      "  warnings.warn(\"The 'normed' kwarg is deprecated, and has been \"\n"
     ]
    },
    {
     "data": {
      "image/png": "[encoded data removed]",
      "text/plain": [
       "<Figure size 432x288 with 1 Axes>"
      ]
     },
     "metadata": {
      "needs_background": "light"
     },
     "output_type": "display_data"
    }
   ],
   "source": [
    "probability_distribution(list(data['satis']))"
   ]
  },
  {
   "cell_type": "code",
   "execution_count": 6,
   "metadata": {},
   "outputs": [
    {
     "name": "stdout",
     "output_type": "stream",
     "text": [
      "==== summary ========\n",
      "0 84\n",
      "==== summary ========\n",
      "==== summary ========\n",
      "1 289\n",
      "==== summary ========\n",
      "==== summary ========\n",
      "2 388\n",
      "==== summary ========\n",
      "==== summary ========\n",
      "3 423\n",
      "==== summary ========\n",
      "==== summary ========\n",
      "4 65\n",
      "==== summary ========\n",
      "==== summary ========\n",
      "5 12\n",
      "==== summary ========\n",
      "==== summary ========\n",
      "6 11\n",
      "==== summary ========\n"
     ]
    }
   ],
   "source": [
    "for i in range(7):\n",
    "    print '==== summary ========'\n",
    "    print i, sum(data['satis'] == i)\n",
    "    print '==== summary ========'"
   ]
  },
  {
   "cell_type": "code",
   "execution_count": 7,
   "metadata": {},
   "outputs": [],
   "source": [
    "def convert_label(val):\n",
    "    if val <= 1:\n",
    "        return 0\n",
    "    if val == 2:\n",
    "        return 1\n",
    "    if val >= 3:\n",
    "        return 2\n",
    "    else:\n",
    "        return 2\n",
    "\n",
    "def convert_seniorcare(val):\n",
    "    if val == 2:\n",
    "        return 1\n",
    "    else:\n",
    "        return val\n",
    "\n",
    "def convert_edu(val):\n",
    "    if val > 5:\n",
    "        return val - 5\n",
    "    else:\n",
    "        return val\n",
    "\n",
    "def convert_comp(val):\n",
    "    return val - 29"
   ]
  },
  {
   "cell_type": "code",
   "execution_count": 41,
   "metadata": {},
   "outputs": [],
   "source": [
    "def get_numeric_idx(colnames, data):\n",
    "    idx_lis = []\n",
    "    for colname in colnames:\n",
    "        idx = list(data.columns).index(colname)\n",
    "        idx_lis.append(idx)\n",
    "    return idx_lis\n",
    "\n",
    "def get_numeric_input(line, numeric_idx_lis):\n",
    "    return [float(line[idx]) for idx in numeric_idx_lis]"
   ]
  },
  {
   "cell_type": "code",
   "execution_count": 40,
   "metadata": {},
   "outputs": [
    {
     "data": {
      "text/plain": [
       "3.0"
      ]
     },
     "execution_count": 40,
     "metadata": {},
     "output_type": "execute_result"
    }
   ],
   "source": [
    "# ----------------------- Must: convert x"
   ]
  },
  {
   "cell_type": "code",
   "execution_count": 8,
   "metadata": {},
   "outputs": [],
   "source": [
    "seniorcare = []\n",
    "for val in list(data['seniorcare']):\n",
    "    seniorcare.append(convert_seniorcare(val))\n",
    "data['seniorcare'] = seniorcare"
   ]
  },
  {
   "cell_type": "code",
   "execution_count": 9,
   "metadata": {},
   "outputs": [],
   "source": [
    "edu = []\n",
    "for val in list(data['edu']):\n",
    "    edu.append(convert_edu(val))\n",
    "data['edu'] = edu"
   ]
  },
  {
   "cell_type": "code",
   "execution_count": 71,
   "metadata": {},
   "outputs": [],
   "source": [
    "for colname in data.columns:\n",
    "    if 'Comp' in colname:\n",
    "        data[colname] = data[colname] - 29"
   ]
  },
  {
   "cell_type": "code",
   "execution_count": 10,
   "metadata": {},
   "outputs": [],
   "source": [
    "# ----------------------- Optional: if convert label\n",
    "satis_label = []\n",
    "for val in list(data['satis']):\n",
    "    satis_label.append(convert_label(val))\n",
    "data['satis'] = satis_label"
   ]
  },
  {
   "cell_type": "code",
   "execution_count": null,
   "metadata": {},
   "outputs": [],
   "source": [
    "# ----------------------- Optional: if convert label"
   ]
  },
  {
   "cell_type": "code",
   "execution_count": 75,
   "metadata": {},
   "outputs": [],
   "source": [
    "data.to_csv(\"/Users/bytedance/LearningProjects/practice_shouqianba/timewhole.txt\", index=False)\n",
    "data = pd.read_csv(\"/Users/bytedance/LearningProjects/practice_shouqianba/timewhole.txt\")"
   ]
  },
  {
   "cell_type": "code",
   "execution_count": 26,
   "metadata": {},
   "outputs": [
    {
     "data": {
      "text/plain": [
       "Index([u'NO', u'gender', u'age', u'edu', u'occupied', u'employer',\n",
       "       u'employform', u'industry', u'housekepper', u'seniorcare',\n",
       "       ...\n",
       "       u'Comp2 39', u'Comp2 40', u'Comp2 41', u'Comp2 42', u'Comp2 43',\n",
       "       u'Comp2 44', u'Comp2 45', u'Comp2 46', u'Comp2 47', u'Comp2 48'],\n",
       "      dtype='object', length=205)"
      ]
     },
     "execution_count": 26,
     "metadata": {},
     "output_type": "execute_result"
    }
   ],
   "source": [
    "data.columns"
   ]
  },
  {
   "cell_type": "code",
   "execution_count": 24,
   "metadata": {},
   "outputs": [
    {
     "name": "stdout",
     "output_type": "stream",
     "text": [
      "set([1, 2])\n",
      "set([1, 2, 3, 4, 5, 6, 7])\n",
      "set([1, 2, 3, 4, 5])\n",
      "set([1, 2])\n",
      "set([1, 3])\n",
      "set([1, 2])\n",
      "set([1, 2, 3, 4, 5, 6, 7, 8, 9])\n"
     ]
    }
   ],
   "source": [
    "for colname in numeric_colnames:\n",
    "    print set(list(data[colname]))"
   ]
  },
  {
   "cell_type": "code",
   "execution_count": 25,
   "metadata": {},
   "outputs": [
    {
     "data": {
      "text/plain": [
       "[1, 2, 3, 8, 9, 10, 11]"
      ]
     },
     "execution_count": 25,
     "metadata": {},
     "output_type": "execute_result"
    }
   ],
   "source": [
    "numeric_idxs"
   ]
  },
  {
   "cell_type": "code",
   "execution_count": 39,
   "metadata": {},
   "outputs": [
    {
     "name": "stdout",
     "output_type": "stream",
     "text": [
      "12\n",
      "13\n",
      "60\n"
     ]
    }
   ],
   "source": [
    "print list(data.columns).index(\"satis\")\n",
    "print list(data.columns).index(\"Act1 1\")\n",
    "print list(data.columns).index(\"Act1 48\")"
   ]
  },
  {
   "cell_type": "code",
   "execution_count": 213,
   "metadata": {},
   "outputs": [
    {
     "name": "stdout",
     "output_type": "stream",
     "text": [
      "['satis', 'Act1 1', 'Act1 2', 'Act1 3', 'Act1 4', 'Act1 5', 'Act1 6', 'Act1 7', 'Act1 8', 'Act1 9', 'Act1 10', 'Act1 11', 'Act1 12', 'Act1 13', 'Act1 14', 'Act1 15', 'Act1 16', 'Act1 17', 'Act1 18', 'Act1 19', 'Act1 20', 'Act1 21', 'Act1 22', 'Act1 23', 'Act1 24', 'Act1 25', 'Act1 26', 'Act1 27', 'Act1 28', 'Act1 29', 'Act1 30', 'Act1 31', 'Act1 32', 'Act1 33', 'Act1 34', 'Act1 35', 'Act1 36', 'Act1 37', 'Act1 38', 'Act1 39', 'Act1 40', 'Act1 41', 'Act1 42', 'Act1 43', 'Act1 44', 'Act1 45', 'Act1 46', 'Act1 47', 'Act1 48']\n"
     ]
    }
   ],
   "source": [
    "for line in open(\"/Users/bytedance/LearningProjects/practice_shouqianba/timewhole.txt\", 'r'):\n",
    "    line = [_ for _ in line.split(',')[:]]\n",
    "    print line[list(data.columns).index(\"satis\"):list(data.columns).index(\"Act1 48\") + 1]\n",
    "    break"
   ]
  },
  {
   "cell_type": "code",
   "execution_count": 80,
   "metadata": {},
   "outputs": [
    {
     "data": {
      "text/plain": [
       "{0, 1, 2, 3, 4, 5, 6}"
      ]
     },
     "execution_count": 80,
     "metadata": {},
     "output_type": "execute_result"
    }
   ],
   "source": [
    "set(list(data['satis']))"
   ]
  },
  {
   "cell_type": "code",
   "execution_count": 63,
   "metadata": {},
   "outputs": [
    {
     "data": {
      "text/plain": [
       "108"
      ]
     },
     "execution_count": 63,
     "metadata": {},
     "output_type": "execute_result"
    }
   ],
   "source": [
    "list(data.columns).index(\"Comp1 1\")\n",
    "list(data.columns).index(\"Comp1 48\")"
   ]
  },
  {
   "cell_type": "code",
   "execution_count": 66,
   "metadata": {},
   "outputs": [
    {
     "data": {
      "text/plain": [
       "{30, 31, 32, 33}"
      ]
     },
     "execution_count": 66,
     "metadata": {},
     "output_type": "execute_result"
    }
   ],
   "source": [
    "set(list(data['Comp1 1']))"
   ]
  },
  {
   "cell_type": "code",
   "execution_count": 67,
   "metadata": {},
   "outputs": [
    {
     "data": {
      "text/plain": [
       "{1, 2, 5, 6, 7, 10, 16, 17, 18, 23, 25, 29}"
      ]
     },
     "execution_count": 67,
     "metadata": {},
     "output_type": "execute_result"
    }
   ],
   "source": [
    "set(list(data['Act1 1']))"
   ]
  },
  {
   "cell_type": "code",
   "execution_count": 39,
   "metadata": {},
   "outputs": [],
   "source": [
    "#======================= Input"
   ]
  },
  {
   "cell_type": "code",
   "execution_count": 76,
   "metadata": {},
   "outputs": [],
   "source": [
    "#---------------------------- 读入数据 ------------------\n",
    "data_source = \"/Users/bytedance/LearningProjects/practice_shouqianba/timewhole.txt\"\n",
    "\n",
    "raw_inputs = []\n",
    "raw_comp_inputs = []\n",
    "raw_numeric_inputs = []\n",
    "raw_labels = []\n",
    "line_idx = 0\n",
    "\n",
    "label_index = list(data.columns).index(\"satis\")\n",
    "weekday_act_start_index = list(data.columns).index(\"Act1 1\")\n",
    "weekday_act_end_index = list(data.columns).index(\"Act1 48\") + 1\n",
    "weekday_companion_start_index = list(data.columns).index(\"Comp1 1\")\n",
    "weekday_companion_end_index = list(data.columns).index(\"Comp1 48\") + 1\n",
    "numeric_colnames = [\"gender\", \"age\", \"edu\", \"housekepper\", \"seniorcare\", \"childcare\", \"income\"]\n",
    "\n",
    "numeric_idxs = get_numeric_idx(numeric_colnames, data)\n",
    "\n",
    "for line in open(data_source, 'r'):\n",
    "    if line_idx == 0:\n",
    "        line_idx += 1\n",
    "        continue\n",
    "    \n",
    "    line_ = line.split(',')\n",
    "    line_inputs = [int(_) for _ in line_[weekday_act_start_index:weekday_act_end_index]]\n",
    "    line_comp_inputs = [int(_) for _ in line_[weekday_companion_start_index:weekday_companion_end_index]]\n",
    "    line_numeric_inputs = get_numeric_input(line_, numeric_idxs)\n",
    "    \n",
    "    line_label = int(line_[label_index])\n",
    "    # line_label = np.random.randint(0,2) #生成label\n",
    "\n",
    "    raw_inputs.append(line_inputs)\n",
    "    raw_comp_inputs.append(line_comp_inputs)\n",
    "    raw_numeric_inputs.append(line_numeric_inputs)\n",
    "    raw_labels.append(line_label)\n",
    "    line_idx += 1\n",
    "\n",
    "ACTION_TYPE_NUM = 29\n",
    "COMPANION_TYPE_NUM = 4\n",
    "LABEL_CLASSES = 3\n",
    "TIME_SLOT_NUM = 48\n",
    "NUMERIC_FEATURE_NUM = len(numeric_colnames)"
   ]
  },
  {
   "cell_type": "code",
   "execution_count": null,
   "metadata": {},
   "outputs": [],
   "source": [
    "#---------------------------- 转化得到训练模型需要的数据格式 ------------------"
   ]
  },
  {
   "cell_type": "code",
   "execution_count": 77,
   "metadata": {},
   "outputs": [],
   "source": [
    "raw_inputs = np.array(raw_inputs)\n",
    "raw_comp_inputs = np.array(raw_comp_inputs)\n",
    "raw_numeric_inputs = np.array(raw_numeric_inputs)\n",
    "raw_labels = np.array(raw_labels)\n",
    "raw_time_inputs = [[i+1 for i in range(48)]] * raw_inputs.shape[0]\n",
    "raw_time_inputs = np.array(raw_time_inputs)\n",
    "\n",
    "raw_labels = np.eye(LABEL_CLASSES)[raw_labels]"
   ]
  },
  {
   "cell_type": "code",
   "execution_count": 38,
   "metadata": {},
   "outputs": [
    {
     "name": "stdout",
     "output_type": "stream",
     "text": [
      "[[ 5  5  5  5  5  5  5  5  5  5  5  5  6  3  3  3  3  3  3  3  3  3  3  3\n",
      "  12 11  6  5  3  3  3  3  3  3 11 14  6 18 18 18 18  7  5  5  5  5  5  5]\n",
      " [ 5  5  5  5  5  5  5  5  5  5  5  5  5  7  7 29 29  1  1  1  1  1  1  1\n",
      "   6  6  1  1  1  1  1  1  1  1  1  9  6  6 23 23 23 23 23  7  5  5  5  5]]\n",
      "[[2 6 1 2 3 2 4]\n",
      " [2 2 4 2 1 2 8]]\n",
      "[[ 1  2  3  4  5  6  7  8  9 10 11 12 13 14 15 16 17 18 19 20 21 22 23 24\n",
      "  25 26 27 28 29 30 31 32 33 34 35 36 37 38 39 40 41 42 43 44 45 46 47 48]\n",
      " [ 1  2  3  4  5  6  7  8  9 10 11 12 13 14 15 16 17 18 19 20 21 22 23 24\n",
      "  25 26 27 28 29 30 31 32 33 34 35 36 37 38 39 40 41 42 43 44 45 46 47 48]]\n",
      "=============================\n",
      "[[1. 0. 0.]\n",
      " [0. 0. 1.]]\n",
      "=============================\n",
      "(1272, 48) (1272, 3)\n"
     ]
    }
   ],
   "source": [
    "print raw_inputs[0:2]# input 48个动作\n",
    "print raw_numeric_inputs[0:2]\n",
    "print raw_time_inputs[0:2]\n",
    "\n",
    "print \"=============================\"\n",
    "print raw_labels[0:2]\n",
    "print \"=============================\"\n",
    "print raw_inputs.shape, raw_labels.shape"
   ]
  },
  {
   "cell_type": "code",
   "execution_count": null,
   "metadata": {},
   "outputs": [],
   "source": [
    "1. 1597行数据，每行输入是48维（每半小时1维）的动作 id\n",
    "2. raw_labels: 2维，在第0个位置 值为1 则 label = 0，在第一个位置值为1 则 label = 1\n"
   ]
  },
  {
   "cell_type": "code",
   "execution_count": null,
   "metadata": {},
   "outputs": [],
   "source": [
    "#---------------------------- 转化得到训练模型需要的数据格式 ------------------"
   ]
  },
  {
   "cell_type": "code",
   "execution_count": null,
   "metadata": {},
   "outputs": [],
   "source": [
    "#---------------------------- 指定模型维度的一些常数 ------------------"
   ]
  },
  {
   "cell_type": "code",
   "execution_count": 79,
   "metadata": {},
   "outputs": [
    {
     "name": "stdout",
     "output_type": "stream",
     "text": [
      "set([1, 2, 3, 4, 5, 6, 7, 8, 9, 10, 11, 12, 13, 14, 15, 16, 17, 18, 19, 20, 21, 22, 23, 24, 25, 26, 27, 28, 29])\n"
     ]
    }
   ],
   "source": [
    "all_inps = []\n",
    "for inp in raw_inputs:\n",
    "    for val in inp:\n",
    "        all_inps.append(val)\n",
    "print set(all_inps)"
   ]
  },
  {
   "cell_type": "code",
   "execution_count": 80,
   "metadata": {},
   "outputs": [],
   "source": [
    "fid_type_to_fid_size = {\n",
    "    \"action_type\": ACTION_TYPE_NUM + 1,\n",
    "    \"comp_type\": COMPANION_TYPE_NUM + 1,\n",
    "    \"time_slot\": TIME_SLOT_NUM + 1,\n",
    "}\n",
    "EMBEDDING_DIM = 4\n"
   ]
  },
  {
   "cell_type": "code",
   "execution_count": 50,
   "metadata": {},
   "outputs": [
    {
     "name": "stdout",
     "output_type": "stream",
     "text": [
      "set([1, 2, 3, 4, 5, 6, 7, 8, 9, 10, 11, 12, 13, 14, 15, 16, 17, 18, 19, 20, 21, 22, 23, 24, 25, 26, 27, 28, 29])\n"
     ]
    }
   ],
   "source": []
  },
  {
   "cell_type": "code",
   "execution_count": null,
   "metadata": {},
   "outputs": [],
   "source": [
    "#====================== test"
   ]
  },
  {
   "cell_type": "code",
   "execution_count": 99,
   "metadata": {},
   "outputs": [
    {
     "name": "stdout",
     "output_type": "stream",
     "text": [
      "emb (?, 48, 4)\n",
      "concat_emb (?, 192) (?, 192)\n",
      "logit shape (?, 384) (?, 3)\n",
      "(?, 3)\n",
      "0.7997727\n",
      "0.7101235\n",
      "0.67727315\n",
      "0.66709584\n",
      "0.6644292\n",
      "0.66337097\n"
     ]
    }
   ],
   "source": [
    "\n",
    "with tf.Session() as sess: \n",
    "    #========== 每行 Input  是 TIME_SLOT_NUM = 48维的两个向量，Label 是 LABEL_CLASSES = 2 维的两个输出\n",
    "    inputs = tf.keras.Input(shape=(TIME_SLOT_NUM, ), dtype=\"int64\")\n",
    "    comp_inputs = tf.keras.Input(shape=(TIME_SLOT_NUM, ), dtype=\"int64\")\n",
    "    time_inputs = tf.keras.Input(shape=(TIME_SLOT_NUM, ), dtype=\"int64\")\n",
    "    numeric_inputs = tf.keras.Input(shape=(NUMERIC_FEATURE_NUM, ), dtype=\"float32\")\n",
    "    labels = tf.keras.Input(shape=(LABEL_CLASSES, ), dtype=\"float32\")\n",
    "\n",
    "    #========== EMBEDDING_DIM = 4维 Embedding，把每行 48个输入映射成 (48, 4)\n",
    "    action_emb = Embedding(\n",
    "        fid_type_to_fid_size[\"action_type\"], EMBEDDING_DIM\n",
    "    )(inputs)\n",
    "    time_emb = Embedding(\n",
    "        fid_type_to_fid_size[\"time_slot\"], EMBEDDING_DIM\n",
    "    )(time_inputs)\n",
    "    comp_emb = Embedding(\n",
    "        fid_type_to_fid_size[\"comp_type\"], EMBEDDING_DIM\n",
    "    )(comp_inputs)\n",
    "    \n",
    "    print 'emb', time_emb.shape\n",
    "    \n",
    "    #========== 直接摊平 48 * 4 = 192 维 embedding，时间的192维 & action_type 的192维做内积\n",
    "    action_concat_emb = tf.keras.layers.Flatten()(action_emb)\n",
    "    comp_concat_emb = tf.keras.layers.Flatten()(comp_emb)\n",
    "    time_concat_emb = tf.keras.layers.Flatten()(time_emb)\n",
    "    \n",
    "    print 'concat_emb', action_concat_emb.shape, time_concat_emb.shape\n",
    "    \n",
    "    logits = tf.concat([\n",
    "        tf.multiply(action_concat_emb, time_concat_emb),\n",
    "        tf.multiply(comp_concat_emb, time_concat_emb)\n",
    "    ],axis=1)\n",
    "    \n",
    "    #=========== 最后需要输出两个label 过一个Dense层把一个logit值映射到 2 个值上，再过一层softmax转化为概率值\n",
    "    prediction_act_comp = tf.keras.layers.Dense(LABEL_CLASSES, activation=None)(logits)\n",
    "    prediction_numeric = tf.keras.layers.Dense(LABEL_CLASSES, activation=None)(numeric_inputs)\n",
    "\n",
    "    prediction = tf.nn.softmax(prediction_act_comp + prediction_numeric)\n",
    "    # prediction = tf.nn.softmax(prediction_numeric)\n",
    "    \n",
    "    print 'logit shape', logits.shape, prediction.shape\n",
    "    print labels.shape\n",
    "    \n",
    "    loss = tf.reduce_mean(tf.nn.sigmoid_cross_entropy_with_logits(logits=prediction, labels=labels))\n",
    "    train_optim = tf.train.AdamOptimizer().minimize(loss) # 训网络\n",
    "    init = tf.global_variables_initializer()\n",
    "    sess.run(init)\n",
    "\n",
    "    for _ in range(3000):\n",
    "        sess.run(train_optim, feed_dict={\n",
    "            inputs: raw_inputs, comp_inputs: raw_comp_inputs,\n",
    "            time_inputs: raw_time_inputs, numeric_inputs: raw_numeric_inputs,\n",
    "            labels: raw_labels\n",
    "        })\n",
    "        if _ % 500 == 0:\n",
    "            print sess.run(loss, feed_dict={\n",
    "                inputs: raw_inputs, comp_inputs: raw_comp_inputs,\n",
    "                time_inputs: raw_time_inputs, numeric_inputs: raw_numeric_inputs,\n",
    "                labels: raw_labels\n",
    "            })\n",
    "\n",
    "\n",
    "    final_ret = sess.run(prediction, feed_dict={\n",
    "        inputs: raw_inputs, comp_inputs: raw_comp_inputs,\n",
    "        time_inputs: raw_time_inputs, numeric_inputs: raw_numeric_inputs\n",
    "    })\n",
    "    final_analysis = sess.run(\n",
    "        logits, feed_dict={\n",
    "            inputs: raw_inputs, comp_inputs: raw_comp_inputs,\n",
    "            time_inputs: raw_time_inputs\n",
    "        }\n",
    "    )\n",
    "    \n",
    "    table_input = np.array([list(np.array(range(29)) + 1) + [1] * 19])\n",
    "    action_emb_table = sess.run(action_emb, feed_dict={inputs: table_input})\n",
    "#     print sess.run(action_concat_emb, feed_dict={inputs: raw_inputs})"
   ]
  },
  {
   "cell_type": "code",
   "execution_count": 100,
   "metadata": {},
   "outputs": [],
   "source": [
    "max_pos = []\n",
    "for res in final_ret:\n",
    "    max_pos.append(np.where(res == max(res))[0][0])"
   ]
  },
  {
   "cell_type": "code",
   "execution_count": 86,
   "metadata": {},
   "outputs": [],
   "source": [
    "label_check = list(data['satis'])"
   ]
  },
  {
   "cell_type": "code",
   "execution_count": 223,
   "metadata": {},
   "outputs": [
    {
     "data": {
      "text/plain": [
       "True"
      ]
     },
     "execution_count": 223,
     "metadata": {},
     "output_type": "execute_result"
    }
   ],
   "source": [
    "len(max_pos) == len(label_check)"
   ]
  },
  {
   "cell_type": "code",
   "execution_count": 101,
   "metadata": {},
   "outputs": [
    {
     "data": {
      "text/plain": [
       "0.710691823899371"
      ]
     },
     "execution_count": 101,
     "metadata": {},
     "output_type": "execute_result"
    }
   ],
   "source": [
    "sum(np.array(max_pos) == np.array(label_check)) * 1.0 / len(label_check)"
   ]
  },
  {
   "cell_type": "code",
   "execution_count": 93,
   "metadata": {},
   "outputs": [
    {
     "data": {
      "text/plain": [
       "0.10770440251572327"
      ]
     },
     "execution_count": 93,
     "metadata": {},
     "output_type": "execute_result"
    }
   ],
   "source": [
    "sum(abs(np.array(max_pos) - np.array(label_check)) > 1) * 1.0 / len(label_check)"
   ]
  },
  {
   "cell_type": "code",
   "execution_count": 89,
   "metadata": {},
   "outputs": [
    {
     "data": {
      "text/plain": [
       "0.18867924528301888"
      ]
     },
     "execution_count": 89,
     "metadata": {},
     "output_type": "execute_result"
    }
   ],
   "source": [
    "sum(abs(np.array(max_pos) - np.array(label_check)) == 1) * 1.0 / len(label_check)"
   ]
  },
  {
   "cell_type": "code",
   "execution_count": 200,
   "metadata": {},
   "outputs": [
    {
     "data": {
      "text/plain": [
       "0.5794025157232704"
      ]
     },
     "execution_count": 200,
     "metadata": {},
     "output_type": "execute_result"
    }
   ],
   "source": [
    "sum(np.array(max_pos) == np.array(label_check)) * 1.0 / len(label_check)"
   ]
  },
  {
   "cell_type": "code",
   "execution_count": 227,
   "metadata": {},
   "outputs": [
    {
     "name": "stdout",
     "output_type": "stream",
     "text": [
      "==== summary ========\n",
      "predict 0 285\n",
      "label 0 373\n",
      "==== summary ========\n",
      "==== summary ========\n",
      "predict 1 296\n",
      "label 1 388\n",
      "==== summary ========\n",
      "==== summary ========\n",
      "predict 2 691\n",
      "label 2 511\n",
      "==== summary ========\n",
      "==== summary ========\n",
      "predict 3 0\n",
      "label 3 0\n",
      "==== summary ========\n"
     ]
    }
   ],
   "source": [
    "for i in range(4):\n",
    "    print '==== summary ========'\n",
    "    print \"predict\",i, sum(np.array(max_pos) == i)\n",
    "    print \"label\",i, sum(np.array(label_check) == i)\n",
    "    print '==== summary ========'"
   ]
  },
  {
   "cell_type": "code",
   "execution_count": 201,
   "metadata": {},
   "outputs": [
    {
     "name": "stdout",
     "output_type": "stream",
     "text": [
      "==== summary ========\n",
      "0 0\n",
      "0 84\n",
      "==== summary ========\n",
      "==== summary ========\n",
      "1 238\n",
      "1 289\n",
      "==== summary ========\n",
      "==== summary ========\n",
      "2 414\n",
      "2 388\n",
      "==== summary ========\n",
      "==== summary ========\n",
      "3 620\n",
      "3 423\n",
      "==== summary ========\n",
      "==== summary ========\n",
      "4 0\n",
      "4 65\n",
      "==== summary ========\n",
      "==== summary ========\n",
      "5 0\n",
      "5 12\n",
      "==== summary ========\n",
      "==== summary ========\n",
      "6 0\n",
      "6 11\n",
      "==== summary ========\n"
     ]
    }
   ],
   "source": [
    "for i in range(7):\n",
    "    print '==== summary ========'\n",
    "    print i, sum(np.array(max_pos) == i)\n",
    "    print i, sum(np.array(label_check) == i)\n",
    "    print '==== summary ========'"
   ]
  },
  {
   "cell_type": "code",
   "execution_count": 228,
   "metadata": {},
   "outputs": [
    {
     "data": {
      "text/plain": [
       "array([[6.44893134e-06, 1.35473832e-01, 8.64519775e-01],\n",
       "       [4.52886187e-02, 1.12649158e-01, 8.42062235e-01],\n",
       "       [9.26504433e-01, 1.18413581e-08, 7.34955519e-02],\n",
       "       ...,\n",
       "       [2.92569435e-08, 1.93062211e-12, 1.00000000e+00],\n",
       "       [1.05200456e-07, 9.99996066e-01, 3.84674649e-06],\n",
       "       [1.37135252e-01, 4.78312813e-06, 8.62859964e-01]], dtype=float32)"
      ]
     },
     "execution_count": 228,
     "metadata": {},
     "output_type": "execute_result"
    }
   ],
   "source": [
    "final_ret"
   ]
  },
  {
   "cell_type": "code",
   "execution_count": 238,
   "metadata": {},
   "outputs": [
    {
     "data": {
      "text/plain": [
       "(1272, 192)"
      ]
     },
     "execution_count": 238,
     "metadata": {},
     "output_type": "execute_result"
    }
   ],
   "source": [
    "final_analysis.shape"
   ]
  },
  {
   "cell_type": "code",
   "execution_count": 251,
   "metadata": {},
   "outputs": [
    {
     "data": {
      "text/plain": [
       "array([[ 1,  2,  3,  4,  5,  6,  7,  8,  9, 10, 11, 12, 13, 14, 15, 16,\n",
       "        17, 18, 19, 20, 21, 22, 23, 24, 25, 26, 27, 28, 29,  1,  1,  1,\n",
       "         1,  1,  1,  1,  1,  1,  1,  1,  1,  1,  1,  1,  1,  1,  1,  1]])"
      ]
     },
     "execution_count": 251,
     "metadata": {},
     "output_type": "execute_result"
    }
   ],
   "source": [
    "np.array([list(np.array(range(29)) + 1) + [1] * 19])"
   ]
  },
  {
   "cell_type": "code",
   "execution_count": null,
   "metadata": {},
   "outputs": [],
   "source": [
    "#-------------------- dump embedding table"
   ]
  },
  {
   "cell_type": "code",
   "execution_count": null,
   "metadata": {},
   "outputs": [],
   "source": [
    "1. 加陪伴结果 + 定量变量\n",
    "2. Kmeans \n",
    "3. "
   ]
  },
  {
   "cell_type": "code",
   "execution_count": null,
   "metadata": {},
   "outputs": [],
   "source": [
    "# https://tensorflow.google.cn/api_docs/python/tf/nn/sigmoid_cross_entropy_with_logits?hl=en\n",
    "# https://keras.io/zh/activations/#softmax"
   ]
  },
  {
   "cell_type": "code",
   "execution_count": 259,
   "metadata": {},
   "outputs": [],
   "source": [
    "action_emb_table = action_emb_table[0][0:29]"
   ]
  },
  {
   "cell_type": "code",
   "execution_count": 260,
   "metadata": {},
   "outputs": [
    {
     "data": {
      "text/plain": [
       "array([[ 0.0056935 , -0.7183568 ,  0.95984125,  1.0242957 ],\n",
       "       [ 1.3115072 ,  1.5382184 ,  1.407964  ,  0.2556171 ],\n",
       "       [-0.15572123, -1.7431034 , -1.9685277 , -1.7605587 ],\n",
       "       [ 1.5241458 ,  0.24990414,  1.8135062 ,  0.30425316],\n",
       "       [ 0.58527964,  0.82575214, -0.91164154,  0.7810273 ],\n",
       "       [-1.9308435 , -0.74855834, -0.41439837, -1.1562614 ],\n",
       "       [-0.58945787, -1.287106  , -0.8655005 , -1.6114441 ],\n",
       "       [ 1.1516482 , -1.3278861 , -1.4016664 ,  2.0046601 ],\n",
       "       [-1.8939265 , -1.5781934 , -0.8015404 ,  0.22641985],\n",
       "       [ 1.1685094 ,  2.460733  , -1.8267401 , -0.54159063],\n",
       "       [ 1.9460407 ,  1.55132   ,  1.1302865 , -2.29671   ],\n",
       "       [-0.97302777,  1.6895324 ,  1.6838603 , -2.282719  ],\n",
       "       [-0.4362318 , -0.11552967, -1.350436  ,  1.2243692 ],\n",
       "       [ 0.63759804, -1.9381973 ,  2.3240128 ,  1.092066  ],\n",
       "       [ 0.43641818,  0.411609  ,  0.89947885, -0.77741367],\n",
       "       [-1.4125329 , -0.04098544,  1.8306948 ,  0.7257846 ],\n",
       "       [ 1.8376284 , -1.8556336 ,  0.4168607 ,  0.16160694],\n",
       "       [ 1.4860408 , -1.2132072 , -1.7044783 , -1.5948052 ],\n",
       "       [-1.7090161 ,  1.7695446 , -1.4010859 ,  0.7610827 ],\n",
       "       [-2.2273207 ,  1.4562707 ,  0.17400481, -1.2108705 ],\n",
       "       [-0.8527444 ,  0.6655825 , -1.1235541 ,  2.0832255 ],\n",
       "       [-0.5734675 ,  1.0173671 , -1.862016  ,  1.4773741 ],\n",
       "       [-1.6800213 ,  1.9923979 ,  1.409173  , -1.2495092 ],\n",
       "       [ 2.17788   , -1.6616706 , -2.0541263 ,  1.9925814 ],\n",
       "       [-0.83367157,  1.7101194 , -1.4018053 ,  1.3176366 ],\n",
       "       [-1.1725171 ,  0.76933235, -1.7201067 ,  1.1426253 ],\n",
       "       [-0.5488559 , -0.37913203,  0.30825976,  0.29783872],\n",
       "       [ 2.0269563 , -1.0406553 ,  0.49348834, -1.1932317 ],\n",
       "       [-0.936427  ,  1.2102317 , -0.20271248,  0.10777582]],\n",
       "      dtype=float32)"
      ]
     },
     "execution_count": 260,
     "metadata": {},
     "output_type": "execute_result"
    }
   ],
   "source": [
    "action_emb_table"
   ]
  },
  {
   "cell_type": "code",
   "execution_count": 264,
   "metadata": {},
   "outputs": [],
   "source": [
    "from sklearn.cluster import KMeans\n",
    "y_pred = KMeans(n_clusters=4, random_state=9).fit_predict(action_emb_table)"
   ]
  },
  {
   "cell_type": "code",
   "execution_count": 268,
   "metadata": {},
   "outputs": [],
   "source": [
    "action_type_to_cluster = {\n",
    "    0:[],\n",
    "    1:[],\n",
    "    2:[],\n",
    "    3:[]\n",
    "}\n",
    "\n",
    "for i in range(29):\n",
    "    cluster = y_pred[i]\n",
    "    action_type_to_cluster[cluster].append(i+1)"
   ]
  },
  {
   "cell_type": "code",
   "execution_count": 269,
   "metadata": {},
   "outputs": [
    {
     "data": {
      "text/plain": [
       "{0: [3, 6, 7, 9, 18],\n",
       " 1: [5, 10, 13, 19, 21, 22, 25, 26, 29],\n",
       " 2: [1, 2, 4, 8, 14, 15, 16, 17, 24, 27, 28],\n",
       " 3: [11, 12, 20, 23]}"
      ]
     },
     "execution_count": 269,
     "metadata": {},
     "output_type": "execute_result"
    }
   ],
   "source": [
    "action_type_to_cluster"
   ]
  },
  {
   "cell_type": "code",
   "execution_count": 262,
   "metadata": {},
   "outputs": [],
   "source": [
    "from sklearn.datasets.samples_generator import make_blobs\n",
    "# X为样本特征，Y为样本簇类别， 共1000个样本，每个样本2个特征，共4个簇，簇中心在[-1,-1], [0,0],[1,1], [2,2]， 簇方差分别为[0.4, 0.2, 0.2]\n",
    "X, y = make_blobs(n_samples=1000, n_features=2, centers=[[-1,-1], [0,0], [1,1], [2,2]], cluster_std=[0.4, 0.2, 0.2, 0.2], \n",
    "                  random_state =9)"
   ]
  },
  {
   "cell_type": "code",
   "execution_count": null,
   "metadata": {},
   "outputs": [],
   "source": [
    "\n",
    "plt.scatter(X[:, 0], X[:, 1], c=y_pred)\n",
    "plt.show()\n"
   ]
  },
  {
   "cell_type": "code",
   "execution_count": 98,
   "metadata": {},
   "outputs": [],
   "source": [
    "pd.DataFrame(final_analysis).to_csv(\"/Users/bytedance/LearningProjects/practice_shouqianba/analysis_matrix.txt\")"
   ]
  },
  {
   "cell_type": "code",
   "execution_count": 95,
   "metadata": {},
   "outputs": [
    {
     "data": {
      "text/plain": [
       "(1272, 384)"
      ]
     },
     "execution_count": 95,
     "metadata": {},
     "output_type": "execute_result"
    }
   ],
   "source": [
    "final_analysis.shape"
   ]
  },
  {
   "cell_type": "code",
   "execution_count": null,
   "metadata": {},
   "outputs": [],
   "source": [
    "#=========== 几种建模方式\n",
    "1. "
   ]
  }
 ],
 "metadata": {
  "kernelspec": {
   "display_name": "Python 2",
   "language": "python",
   "name": "python2"
  },
  "language_info": {
   "codemirror_mode": {
    "name": "ipython",
    "version": 2
   },
   "file_extension": ".py",
   "mimetype": "text/x-python",
   "name": "python",
   "nbconvert_exporter": "python",
   "pygments_lexer": "ipython2",
   "version": "2.7.18"
  }
 },
 "nbformat": 4,
 "nbformat_minor": 5
}
