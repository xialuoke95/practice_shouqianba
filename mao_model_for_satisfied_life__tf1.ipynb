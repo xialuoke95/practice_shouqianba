{
 "cells": [
  {
   "cell_type": "code",
   "execution_count": 1,
   "metadata": {},
   "outputs": [],
   "source": [
    "import tensorflow as tf\n",
    "import numpy as np\n",
    "from tensorflow import keras\n",
    "from tensorflow.keras.layers import Embedding\n",
    "from tensorflow.keras import Sequential\n",
    "%matplotlib inline\n",
    "import matplotlib.pyplot as plt"
   ]
  },
  {
   "cell_type": "code",
   "execution_count": 2,
   "metadata": {},
   "outputs": [
    {
     "data": {
      "text/plain": [
       "'1.13.1'"
      ]
     },
     "execution_count": 2,
     "metadata": {},
     "output_type": "execute_result"
    }
   ],
   "source": [
    "tf.__version__"
   ]
  },
  {
   "cell_type": "code",
   "execution_count": 3,
   "metadata": {},
   "outputs": [],
   "source": [
    "# 按照固定区间长度绘制频率分布直方图\n",
    "# bins_interval 区间的长度\n",
    "# margin        设定的左边和右边空留的大小\n",
    "def probability_distribution(data, bins_interval=1, margin=1):\n",
    "    bins = range(min(data), max(data) + bins_interval - 1, bins_interval)\n",
    "    print(len(bins))\n",
    "    for i in range(0, len(bins)):\n",
    "        print(bins[i])\n",
    "    plt.xlim(min(data) - margin, max(data) + margin)\n",
    "    plt.title(\"Probability-distribution\")\n",
    "    plt.xlabel('Interval')\n",
    "    plt.ylabel('Probability')\n",
    "    # 频率分布normed=True，频次分布normed=False\n",
    "    prob,left,rectangle = plt.hist(x=data, bins=bins, normed=True, histtype='bar', color=['r'])\n",
    "    for x, y in zip(left, prob):\n",
    "        # 字体上边文字\n",
    "        # 频率分布数据 normed=True\n",
    "        plt.text(x + bins_interval / 2, y + 0.003, '%.2f' % y, ha='center', va='top')\n",
    "        # 频次分布数据 normed=False\n",
    "        # plt.text(x + bins_interval / 2, y + 0.25, '%.2f' % y, ha='center', va='top')\n",
    "    plt.show()"
   ]
  },
  {
   "cell_type": "code",
   "execution_count": null,
   "metadata": {},
   "outputs": [],
   "source": []
  },
  {
   "cell_type": "code",
   "execution_count": 4,
   "metadata": {},
   "outputs": [
    {
     "ename": "NameError",
     "evalue": "name 'pd' is not defined",
     "output_type": "error",
     "traceback": [
      "\u001b[0;31m---------------------------------------------------------------------------\u001b[0m",
      "\u001b[0;31mNameError\u001b[0m                                 Traceback (most recent call last)",
      "\u001b[0;32m<ipython-input-4-06dcc6cf7ea7>\u001b[0m in \u001b[0;36m<module>\u001b[0;34m()\u001b[0m\n\u001b[0;32m----> 1\u001b[0;31m \u001b[0morigin_data\u001b[0m \u001b[0;34m=\u001b[0m \u001b[0mpd\u001b[0m\u001b[0;34m.\u001b[0m\u001b[0mread_csv\u001b[0m\u001b[0;34m(\u001b[0m\u001b[0;34m\"/Users/bytedance/LearningProjects/practice_shouqianba/timedata.txt\"\u001b[0m\u001b[0;34m,\u001b[0m \u001b[0msep\u001b[0m\u001b[0;34m=\u001b[0m\u001b[0;34m'\\t'\u001b[0m\u001b[0;34m)\u001b[0m\u001b[0;34m\u001b[0m\u001b[0m\n\u001b[0m",
      "\u001b[0;31mNameError\u001b[0m: name 'pd' is not defined"
     ]
    }
   ],
   "source": [
    "origin_data = pd.read_csv(\"/Users/bytedance/LearningProjects/practice_shouqianba/timedata.txt\", sep='\\t')"
   ]
  },
  {
   "cell_type": "code",
   "execution_count": null,
   "metadata": {},
   "outputs": [],
   "source": []
  },
  {
   "cell_type": "code",
   "execution_count": null,
   "metadata": {},
   "outputs": [],
   "source": [
    "#======================= Deal Input"
   ]
  },
  {
   "cell_type": "code",
   "execution_count": 5,
   "metadata": {},
   "outputs": [],
   "source": [
    "import pandas as pd"
   ]
  },
  {
   "cell_type": "code",
   "execution_count": 6,
   "metadata": {},
   "outputs": [],
   "source": [
    "data = pd.read_csv(\"/Users/bytedance/LearningProjects/practice_shouqianba/timedata.txt\", sep='\\t')\n",
    "data['satis'] = data['satis'] - 1\n"
   ]
  },
  {
   "cell_type": "code",
   "execution_count": 7,
   "metadata": {},
   "outputs": [
    {
     "name": "stdout",
     "output_type": "stream",
     "text": [
      "6\n",
      "0\n",
      "1\n",
      "2\n",
      "3\n",
      "4\n",
      "5\n"
     ]
    },
    {
     "name": "stderr",
     "output_type": "stream",
     "text": [
      "/Users/bytedance/miniconda3/envs/tf1/lib/python2.7/site-packages/matplotlib/axes/_axes.py:6571: UserWarning: The 'normed' kwarg is deprecated, and has been replaced by the 'density' kwarg.\n",
      "  warnings.warn(\"The 'normed' kwarg is deprecated, and has been \"\n"
     ]
    },
    {
     "data": {
      "image/png": "[encoded data removed]",
      "text/plain": [
       "<Figure size 432x288 with 1 Axes>"
      ]
     },
     "metadata": {
      "needs_background": "light"
     },
     "output_type": "display_data"
    }
   ],
   "source": [
    "probability_distribution(list(data['satis']))"
   ]
  },
  {
   "cell_type": "code",
   "execution_count": 8,
   "metadata": {},
   "outputs": [
    {
     "name": "stdout",
     "output_type": "stream",
     "text": [
      "==== summary ========\n",
      "0 84\n",
      "==== summary ========\n",
      "==== summary ========\n",
      "1 289\n",
      "==== summary ========\n",
      "==== summary ========\n",
      "2 388\n",
      "==== summary ========\n",
      "==== summary ========\n",
      "3 423\n",
      "==== summary ========\n",
      "==== summary ========\n",
      "4 65\n",
      "==== summary ========\n",
      "==== summary ========\n",
      "5 12\n",
      "==== summary ========\n",
      "==== summary ========\n",
      "6 11\n",
      "==== summary ========\n"
     ]
    }
   ],
   "source": [
    "for i in range(7):\n",
    "    print '==== summary ========'\n",
    "    print i, sum(data['satis'] == i)\n",
    "    print '==== summary ========'"
   ]
  },
  {
   "cell_type": "code",
   "execution_count": 9,
   "metadata": {},
   "outputs": [],
   "source": [
    "def convert_label(val):\n",
    "    if val <= 1:\n",
    "        return 0\n",
    "    if val == 2:\n",
    "        return 1\n",
    "    if val >= 3:\n",
    "        return 2\n",
    "    else:\n",
    "        return 2\n",
    "\n",
    "def convert_seniorcare(val):\n",
    "    if val == 2:\n",
    "        return 1\n",
    "    else:\n",
    "        return val\n",
    "\n",
    "def convert_edu(val):\n",
    "    if val > 5:\n",
    "        return val - 5\n",
    "    else:\n",
    "        return val\n",
    "\n",
    "def convert_comp(val):\n",
    "    return val - 29\n",
    "\n",
    "def get_numeric_idx(colnames, data):\n",
    "    idx_lis = []\n",
    "    for colname in colnames:\n",
    "        idx = list(data.columns).index(colname)\n",
    "        idx_lis.append(idx)\n",
    "    return idx_lis\n",
    "\n",
    "def get_numeric_input(line, numeric_idx_lis):\n",
    "    return [float(line[idx]) for idx in numeric_idx_lis]"
   ]
  },
  {
   "cell_type": "code",
   "execution_count": 40,
   "metadata": {},
   "outputs": [
    {
     "data": {
      "text/plain": [
       "3.0"
      ]
     },
     "execution_count": 40,
     "metadata": {},
     "output_type": "execute_result"
    }
   ],
   "source": [
    "# ----------------------- Must: convert x"
   ]
  },
  {
   "cell_type": "code",
   "execution_count": 11,
   "metadata": {},
   "outputs": [],
   "source": [
    "seniorcare = []\n",
    "for val in list(data['seniorcare']):\n",
    "    seniorcare.append(convert_seniorcare(val))\n",
    "data['seniorcare'] = seniorcare"
   ]
  },
  {
   "cell_type": "code",
   "execution_count": 12,
   "metadata": {},
   "outputs": [],
   "source": [
    "edu = []\n",
    "for val in list(data['edu']):\n",
    "    edu.append(convert_edu(val))\n",
    "data['edu'] = edu"
   ]
  },
  {
   "cell_type": "code",
   "execution_count": 13,
   "metadata": {},
   "outputs": [],
   "source": [
    "for colname in data.columns:\n",
    "    if 'Comp' in colname:\n",
    "        data[colname] = data[colname] - 29"
   ]
  },
  {
   "cell_type": "code",
   "execution_count": 14,
   "metadata": {},
   "outputs": [],
   "source": [
    "# ----------------------- Optional: if convert label\n",
    "satis_label = []\n",
    "for val in list(data['satis']):\n",
    "    satis_label.append(convert_label(val))\n",
    "data['satis'] = satis_label"
   ]
  },
  {
   "cell_type": "code",
   "execution_count": null,
   "metadata": {},
   "outputs": [],
   "source": [
    "# ----------------------- Optional: if convert label"
   ]
  },
  {
   "cell_type": "code",
   "execution_count": 15,
   "metadata": {},
   "outputs": [],
   "source": [
    "data.to_csv(\"/Users/bytedance/LearningProjects/practice_shouqianba/timewhole.txt\", index=False)\n",
    "data = pd.read_csv(\"/Users/bytedance/LearningProjects/practice_shouqianba/timewhole.txt\")"
   ]
  },
  {
   "cell_type": "code",
   "execution_count": 16,
   "metadata": {},
   "outputs": [
    {
     "data": {
      "text/plain": [
       "Index([u'NO', u'gender', u'age', u'edu', u'occupied', u'employer',\n",
       "       u'employform', u'industry', u'housekepper', u'seniorcare',\n",
       "       ...\n",
       "       u'Comp2 39', u'Comp2 40', u'Comp2 41', u'Comp2 42', u'Comp2 43',\n",
       "       u'Comp2 44', u'Comp2 45', u'Comp2 46', u'Comp2 47', u'Comp2 48'],\n",
       "      dtype='object', length=205)"
      ]
     },
     "execution_count": 16,
     "metadata": {},
     "output_type": "execute_result"
    }
   ],
   "source": [
    "data.columns"
   ]
  },
  {
   "cell_type": "code",
   "execution_count": 17,
   "metadata": {},
   "outputs": [
    {
     "name": "stdout",
     "output_type": "stream",
     "text": [
      "12\n",
      "13\n",
      "60\n"
     ]
    }
   ],
   "source": [
    "print list(data.columns).index(\"satis\")\n",
    "print list(data.columns).index(\"Act1 1\")\n",
    "print list(data.columns).index(\"Act1 48\")"
   ]
  },
  {
   "cell_type": "code",
   "execution_count": 18,
   "metadata": {},
   "outputs": [
    {
     "name": "stdout",
     "output_type": "stream",
     "text": [
      "['satis', 'Act1 1', 'Act1 2', 'Act1 3', 'Act1 4', 'Act1 5', 'Act1 6', 'Act1 7', 'Act1 8', 'Act1 9', 'Act1 10', 'Act1 11', 'Act1 12', 'Act1 13', 'Act1 14', 'Act1 15', 'Act1 16', 'Act1 17', 'Act1 18', 'Act1 19', 'Act1 20', 'Act1 21', 'Act1 22', 'Act1 23', 'Act1 24', 'Act1 25', 'Act1 26', 'Act1 27', 'Act1 28', 'Act1 29', 'Act1 30', 'Act1 31', 'Act1 32', 'Act1 33', 'Act1 34', 'Act1 35', 'Act1 36', 'Act1 37', 'Act1 38', 'Act1 39', 'Act1 40', 'Act1 41', 'Act1 42', 'Act1 43', 'Act1 44', 'Act1 45', 'Act1 46', 'Act1 47', 'Act1 48']\n"
     ]
    }
   ],
   "source": [
    "for line in open(\"/Users/bytedance/LearningProjects/practice_shouqianba/timewhole.txt\", 'r'):\n",
    "    line = [_ for _ in line.split(',')[:]]\n",
    "    print line[list(data.columns).index(\"satis\"):list(data.columns).index(\"Act1 48\") + 1]\n",
    "    break"
   ]
  },
  {
   "cell_type": "code",
   "execution_count": 19,
   "metadata": {},
   "outputs": [
    {
     "data": {
      "text/plain": [
       "{0, 1, 2}"
      ]
     },
     "execution_count": 19,
     "metadata": {},
     "output_type": "execute_result"
    }
   ],
   "source": [
    "set(list(data['satis']))"
   ]
  },
  {
   "cell_type": "code",
   "execution_count": 20,
   "metadata": {},
   "outputs": [
    {
     "data": {
      "text/plain": [
       "108"
      ]
     },
     "execution_count": 20,
     "metadata": {},
     "output_type": "execute_result"
    }
   ],
   "source": [
    "list(data.columns).index(\"Comp1 1\")\n",
    "list(data.columns).index(\"Comp1 48\")"
   ]
  },
  {
   "cell_type": "code",
   "execution_count": 21,
   "metadata": {},
   "outputs": [
    {
     "data": {
      "text/plain": [
       "{1, 2, 3, 4}"
      ]
     },
     "execution_count": 21,
     "metadata": {},
     "output_type": "execute_result"
    }
   ],
   "source": [
    "set(list(data['Comp1 1']))"
   ]
  },
  {
   "cell_type": "code",
   "execution_count": 22,
   "metadata": {},
   "outputs": [
    {
     "data": {
      "text/plain": [
       "{1, 2, 5, 6, 7, 10, 16, 17, 18, 23, 25, 29}"
      ]
     },
     "execution_count": 22,
     "metadata": {},
     "output_type": "execute_result"
    }
   ],
   "source": [
    "set(list(data['Act1 1']))"
   ]
  },
  {
   "cell_type": "code",
   "execution_count": 39,
   "metadata": {},
   "outputs": [],
   "source": [
    "#======================= Input"
   ]
  },
  {
   "cell_type": "code",
   "execution_count": 23,
   "metadata": {},
   "outputs": [
    {
     "ename": "NameError",
     "evalue": "name 'weekday_act_start_index' is not defined",
     "output_type": "error",
     "traceback": [
      "\u001b[0;31m---------------------------------------------------------------------------\u001b[0m",
      "\u001b[0;31mNameError\u001b[0m                                 Traceback (most recent call last)",
      "\u001b[0;32m<ipython-input-23-4b753f142657>\u001b[0m in \u001b[0;36m<module>\u001b[0;34m()\u001b[0m\n\u001b[0;32m----> 1\u001b[0;31m \u001b[0;32mprint\u001b[0m \u001b[0mweekday_act_start_index\u001b[0m\u001b[0;34m,\u001b[0m \u001b[0mweekend_act_start_index\u001b[0m\u001b[0;34m\u001b[0m\u001b[0m\n\u001b[0m",
      "\u001b[0;31mNameError\u001b[0m: name 'weekday_act_start_index' is not defined"
     ]
    }
   ],
   "source": [
    "print weekday_act_start_index, weekend_act_start_index"
   ]
  },
  {
   "cell_type": "code",
   "execution_count": 24,
   "metadata": {},
   "outputs": [],
   "source": [
    "#---------------------------- 读入数据 ------------------\n",
    "data_source = \"/Users/bytedance/LearningProjects/practice_shouqianba/timewhole.txt\"\n",
    "\n",
    "raw_inputs = []\n",
    "raw_comp_inputs = []\n",
    "raw_weekend_inputs = []\n",
    "raw_weekend_comp_inputs = []\n",
    "raw_numeric_inputs = []\n",
    "raw_labels = []\n",
    "line_idx = 0\n",
    "\n",
    "label_index = list(data.columns).index(\"satis\")\n",
    "weekday_act_start_index = list(data.columns).index(\"Act1 1\")\n",
    "weekday_act_end_index = list(data.columns).index(\"Act1 48\") + 1\n",
    "weekday_companion_start_index = list(data.columns).index(\"Comp1 1\")\n",
    "weekday_companion_end_index = list(data.columns).index(\"Comp1 48\") + 1\n",
    "\n",
    "weekend_act_start_index = list(data.columns).index(\"Act2 1\")\n",
    "weekend_act_end_index = list(data.columns).index(\"Act2 48\") + 1\n",
    "weekend_companion_start_index = list(data.columns).index(\"Comp2 1\")\n",
    "weekend_companion_end_index = list(data.columns).index(\"Comp2 48\") + 1\n",
    "\n",
    "numeric_colnames = [\"gender\", \"age\", \"edu\", \"housekepper\", \"seniorcare\", \"childcare\", \"income\"]\n",
    "\n",
    "numeric_idxs = get_numeric_idx(numeric_colnames, data)\n",
    "\n",
    "for line in open(data_source, 'r'):\n",
    "    if line_idx == 0:\n",
    "        line_idx += 1\n",
    "        continue\n",
    "    \n",
    "    line_ = line.split(',')\n",
    "    \n",
    "    line_inputs = [int(_) for _ in line_[weekday_act_start_index:weekday_act_end_index]]\n",
    "    line_comp_inputs = [int(_) for _ in line_[weekday_companion_start_index:weekday_companion_end_index]]\n",
    "    line_weekend_inputs = [int(_) for _ in line_[weekend_act_start_index:weekend_act_end_index]]\n",
    "    line_weekend_comp_inputs = [int(_) for _ in line_[weekend_companion_start_index:weekend_companion_end_index]]\n",
    "    line_numeric_inputs = get_numeric_input(line_, numeric_idxs)\n",
    "    \n",
    "    line_label = int(line_[label_index])\n",
    "    # line_label = np.random.randint(0,2) #生成label\n",
    "\n",
    "    raw_inputs.append(line_inputs)\n",
    "    raw_comp_inputs.append(line_comp_inputs)\n",
    "    raw_weekend_inputs.append(line_weekend_inputs)\n",
    "    raw_weekend_comp_inputs.append(line_weekend_comp_inputs)\n",
    "\n",
    "    raw_numeric_inputs.append(line_numeric_inputs)\n",
    "    raw_labels.append(line_label)\n",
    "    line_idx += 1\n",
    "\n",
    "ACTION_TYPE_NUM = 29\n",
    "COMPANION_TYPE_NUM = 4\n",
    "LABEL_CLASSES = 3\n",
    "TIME_SLOT_NUM = 48\n",
    "NUMERIC_FEATURE_NUM = len(numeric_colnames)"
   ]
  },
  {
   "cell_type": "code",
   "execution_count": 25,
   "metadata": {},
   "outputs": [
    {
     "name": "stdout",
     "output_type": "stream",
     "text": [
      "set([1, 2])\n",
      "set([1, 2, 3, 4, 5, 6, 7])\n",
      "set([1, 2, 3, 4, 5])\n",
      "set([1, 2])\n",
      "set([1, 3])\n",
      "set([1, 2])\n",
      "set([1, 2, 3, 4, 5, 6, 7, 8, 9])\n"
     ]
    },
    {
     "data": {
      "text/plain": [
       "[1, 2, 3, 8, 9, 10, 11]"
      ]
     },
     "execution_count": 25,
     "metadata": {},
     "output_type": "execute_result"
    }
   ],
   "source": [
    "for colname in numeric_colnames:\n",
    "    print set(list(data[colname]))\n",
    "numeric_idxs"
   ]
  },
  {
   "cell_type": "code",
   "execution_count": null,
   "metadata": {},
   "outputs": [],
   "source": [
    "#---------------------------- 转化得到训练模型需要的数据格式 ------------------"
   ]
  },
  {
   "cell_type": "code",
   "execution_count": 26,
   "metadata": {},
   "outputs": [],
   "source": [
    "raw_inputs = np.array(raw_inputs)\n",
    "raw_comp_inputs = np.array(raw_comp_inputs)\n",
    "raw_weekend_inputs = np.array(raw_weekend_inputs)\n",
    "raw_weekend_comp_inputs = np.array(raw_weekend_comp_inputs)\n",
    "raw_numeric_inputs = np.array(raw_numeric_inputs)\n",
    "\n",
    "raw_labels = np.array(raw_labels)\n",
    "raw_time_inputs = [[i+1 for i in range(48)]] * raw_inputs.shape[0]\n",
    "raw_time_inputs = np.array(raw_time_inputs)\n",
    "\n",
    "raw_labels = np.eye(LABEL_CLASSES)[raw_labels]"
   ]
  },
  {
   "cell_type": "code",
   "execution_count": 27,
   "metadata": {},
   "outputs": [
    {
     "name": "stdout",
     "output_type": "stream",
     "text": [
      "[[ 5  5  5  5  5  5  5  5  5  5  5  5  6  3  3  3  3  3  3  3  3  3  3  3\n",
      "  12 11  6  5  3  3  3  3  3  3 11 14  6 18 18 18 18  7  5  5  5  5  5  5]\n",
      " [ 5  5  5  5  5  5  5  5  5  5  5  5  5  7  7 29 29  1  1  1  1  1  1  1\n",
      "   6  6  1  1  1  1  1  1  1  1  1  9  6  6 23 23 23 23 23  7  5  5  5  5]]\n",
      "[[ 5  5  5  5  5  5  5  5  5  5  5 11  6 14 25 25  3  3  3  3  3  3 10 11\n",
      "   6 25  3  3  3  3  3  3  3  3  3 11  6 23 23 23 23 23 23 23  5  5  5  5]\n",
      " [ 5  5  5  5  5  5  5  5  5  5  5  5  5  5  5  5  5  5  5  5  5  5  6  6\n",
      "  23 23 23 23 23 23 23 23 23 23 23 23 23 23  6 23 23 23 23 23 23  5  5  5]]\n",
      "[[2. 6. 1. 2. 3. 2. 4.]\n",
      " [2. 2. 4. 2. 1. 2. 8.]]\n",
      "[[ 1  2  3  4  5  6  7  8  9 10 11 12 13 14 15 16 17 18 19 20 21 22 23 24\n",
      "  25 26 27 28 29 30 31 32 33 34 35 36 37 38 39 40 41 42 43 44 45 46 47 48]\n",
      " [ 1  2  3  4  5  6  7  8  9 10 11 12 13 14 15 16 17 18 19 20 21 22 23 24\n",
      "  25 26 27 28 29 30 31 32 33 34 35 36 37 38 39 40 41 42 43 44 45 46 47 48]]\n",
      "=============================\n",
      "[[1. 0. 0.]\n",
      " [0. 0. 1.]]\n",
      "=============================\n",
      "(1272, 48) (1272, 3)\n"
     ]
    }
   ],
   "source": [
    "print raw_inputs[0:2]# input 48个动作\n",
    "print raw_weekend_inputs[0:2]# input 48个动作\n",
    "\n",
    "print raw_numeric_inputs[0:2]\n",
    "print raw_time_inputs[0:2]\n",
    "\n",
    "print \"=============================\"\n",
    "print raw_labels[0:2]\n",
    "print \"=============================\"\n",
    "print raw_inputs.shape, raw_labels.shape"
   ]
  },
  {
   "cell_type": "code",
   "execution_count": null,
   "metadata": {},
   "outputs": [],
   "source": [
    "1. 1597行数据，每行输入是48维（每半小时1维）的动作 id\n",
    "2. raw_labels: 2维，在第0个位置 值为1 则 label = 0，在第一个位置值为1 则 label = 1\n"
   ]
  },
  {
   "cell_type": "code",
   "execution_count": null,
   "metadata": {},
   "outputs": [],
   "source": [
    "#---------------------------- 转化得到训练模型需要的数据格式 ------------------"
   ]
  },
  {
   "cell_type": "code",
   "execution_count": null,
   "metadata": {},
   "outputs": [],
   "source": [
    "#---------------------------- 指定模型维度的一些常数 ------------------"
   ]
  },
  {
   "cell_type": "code",
   "execution_count": 28,
   "metadata": {},
   "outputs": [
    {
     "name": "stdout",
     "output_type": "stream",
     "text": [
      "set([1, 2, 3, 4, 5, 6, 7, 8, 9, 10, 11, 12, 13, 14, 15, 16, 17, 18, 19, 20, 21, 22, 23, 24, 25, 26, 27, 28, 29])\n"
     ]
    }
   ],
   "source": [
    "all_inps = []\n",
    "for inp in raw_inputs:\n",
    "    for val in inp:\n",
    "        all_inps.append(val)\n",
    "print set(all_inps)"
   ]
  },
  {
   "cell_type": "code",
   "execution_count": null,
   "metadata": {},
   "outputs": [],
   "source": [
    "#---------------------------- 29项活动，平时/周末 有多少人做"
   ]
  },
  {
   "cell_type": "code",
   "execution_count": 35,
   "metadata": {},
   "outputs": [
    {
     "data": {
      "text/plain": [
       "array([[ 5,  5,  5, ...,  5,  5,  5],\n",
       "       [ 5,  5,  5, ...,  5,  5,  5],\n",
       "       [ 2,  2,  2, ...,  5,  5,  5],\n",
       "       ...,\n",
       "       [ 5,  5,  5, ...,  7,  7,  7],\n",
       "       [ 5,  5,  5, ..., 17,  5,  5],\n",
       "       [ 5,  5,  5, ...,  5,  5,  5]])"
      ]
     },
     "execution_count": 35,
     "metadata": {},
     "output_type": "execute_result"
    }
   ],
   "source": [
    "raw_inputs"
   ]
  },
  {
   "cell_type": "code",
   "execution_count": 42,
   "metadata": {},
   "outputs": [
    {
     "name": "stdout",
     "output_type": "stream",
     "text": [
      "1217\n",
      "299\n",
      "143\n",
      "1098\n",
      "1270\n",
      "1261\n",
      "1170\n",
      "31\n",
      "141\n",
      "125\n",
      "319\n",
      "172\n",
      "157\n",
      "186\n",
      "89\n",
      "284\n",
      "116\n",
      "345\n",
      "41\n",
      "37\n",
      "6\n",
      "185\n",
      "334\n",
      "118\n",
      "412\n",
      "74\n",
      "1\n",
      "9\n",
      "173\n"
     ]
    }
   ],
   "source": [
    "for i in range(29):\n",
    "    print sum(np.sum(raw_inputs == (i+1), axis = 1) > 0)"
   ]
  },
  {
   "cell_type": "code",
   "execution_count": 43,
   "metadata": {},
   "outputs": [
    {
     "name": "stdout",
     "output_type": "stream",
     "text": [
      "99\n",
      "67\n",
      "99\n",
      "143\n",
      "1268\n",
      "1257\n",
      "1170\n",
      "45\n",
      "161\n",
      "422\n",
      "588\n",
      "548\n",
      "243\n",
      "457\n",
      "149\n",
      "342\n",
      "147\n",
      "626\n",
      "45\n",
      "86\n",
      "27\n",
      "407\n",
      "569\n",
      "222\n",
      "403\n",
      "119\n",
      "4\n",
      "119\n",
      "290\n"
     ]
    }
   ],
   "source": [
    "for i in range(29):\n",
    "    print sum(np.sum(raw_weekend_inputs == (i+1), axis = 1) > 0)"
   ]
  },
  {
   "cell_type": "code",
   "execution_count": null,
   "metadata": {},
   "outputs": [],
   "source": []
  },
  {
   "cell_type": "code",
   "execution_count": null,
   "metadata": {},
   "outputs": [],
   "source": [
    "#---------------------------- 29项活动，平时/周末 多长时间"
   ]
  },
  {
   "cell_type": "code",
   "execution_count": null,
   "metadata": {},
   "outputs": [],
   "source": [
    "#------------ 工作日"
   ]
  },
  {
   "cell_type": "code",
   "execution_count": 29,
   "metadata": {},
   "outputs": [
    {
     "name": "stdout",
     "output_type": "stream",
     "text": [
      "19719\n",
      "1166\n",
      "750\n",
      "4136\n",
      "20546\n",
      "4290\n",
      "2381\n",
      "51\n",
      "234\n",
      "193\n",
      "553\n",
      "240\n",
      "509\n",
      "344\n",
      "262\n",
      "752\n",
      "251\n",
      "1068\n",
      "84\n",
      "100\n",
      "13\n",
      "362\n",
      "1227\n",
      "241\n",
      "852\n",
      "206\n",
      "5\n",
      "17\n",
      "504\n"
     ]
    }
   ],
   "source": [
    "for i in range(29):\n",
    "    print np.sum(raw_inputs == (i+1))"
   ]
  },
  {
   "cell_type": "code",
   "execution_count": null,
   "metadata": {},
   "outputs": [],
   "source": [
    "#------------ 周末"
   ]
  },
  {
   "cell_type": "code",
   "execution_count": 31,
   "metadata": {},
   "outputs": [
    {
     "name": "stdout",
     "output_type": "stream",
     "text": [
      "1539\n",
      "670\n",
      "779\n",
      "545\n",
      "24766\n",
      "4968\n",
      "2465\n",
      "131\n",
      "420\n",
      "1380\n",
      "1626\n",
      "1196\n",
      "1920\n",
      "1276\n",
      "695\n",
      "1416\n",
      "513\n",
      "3489\n",
      "111\n",
      "440\n",
      "130\n",
      "1479\n",
      "4121\n",
      "729\n",
      "1403\n",
      "628\n",
      "32\n",
      "687\n",
      "1502\n"
     ]
    }
   ],
   "source": [
    "for i in range(29):\n",
    "    print np.sum(raw_weekend_inputs == (i+1))"
   ]
  },
  {
   "cell_type": "code",
   "execution_count": null,
   "metadata": {},
   "outputs": [],
   "source": []
  },
  {
   "cell_type": "code",
   "execution_count": null,
   "metadata": {},
   "outputs": [],
   "source": []
  },
  {
   "cell_type": "code",
   "execution_count": null,
   "metadata": {},
   "outputs": [],
   "source": []
  },
  {
   "cell_type": "code",
   "execution_count": 45,
   "metadata": {},
   "outputs": [],
   "source": [
    "fid_type_to_fid_size = {\n",
    "    \"action_type\": ACTION_TYPE_NUM + 1,\n",
    "    \"comp_type\": COMPANION_TYPE_NUM + 1,\n",
    "    \"time_slot\": TIME_SLOT_NUM + 1,\n",
    "}\n",
    "EMBEDDING_DIM = 4\n"
   ]
  },
  {
   "cell_type": "code",
   "execution_count": null,
   "metadata": {},
   "outputs": [],
   "source": [
    "#====================== test"
   ]
  },
  {
   "cell_type": "code",
   "execution_count": 58,
   "metadata": {},
   "outputs": [
    {
     "name": "stdout",
     "output_type": "stream",
     "text": [
      "emb (?, 48, 4)\n",
      "concat_emb (?, 192) (?, 192)\n",
      "logit shape (?, 768) (?, 1) (?, 3)\n",
      "(?, 3)\n",
      "0.76143134\n",
      "0.7158288\n",
      "0.6850155\n",
      "0.6760969\n",
      "0.6736103\n",
      "0.6726477\n"
     ]
    }
   ],
   "source": [
    "#=============== 值得优化的待优化代码\n",
    "\n",
    "with tf.Session() as sess: \n",
    "    #========== 每行 Input  是 TIME_SLOT_NUM = 48维的两个向量，Label 是 LABEL_CLASSES = 2 维的两个输出\n",
    "    inputs = tf.keras.Input(shape=(TIME_SLOT_NUM, ), dtype=\"int64\")\n",
    "    comp_inputs = tf.keras.Input(shape=(TIME_SLOT_NUM, ), dtype=\"int64\")\n",
    "    weekend_inputs = tf.keras.Input(shape=(TIME_SLOT_NUM, ), dtype=\"int64\")\n",
    "    weekend_comp_inputs = tf.keras.Input(shape=(TIME_SLOT_NUM, ), dtype=\"int64\")\n",
    "    \n",
    "    time_inputs = tf.keras.Input(shape=(TIME_SLOT_NUM, ), dtype=\"int64\")\n",
    "    numeric_inputs = tf.keras.Input(shape=(NUMERIC_FEATURE_NUM, ), dtype=\"float32\")\n",
    "    labels = tf.keras.Input(shape=(LABEL_CLASSES, ), dtype=\"float32\")\n",
    "\n",
    "    #========== EMBEDDING_DIM = 4维 Embedding，把每行 48个输入映射成 (48, 4)\n",
    "    action_matrix=Embedding(\n",
    "        fid_type_to_fid_size[\"action_type\"], EMBEDDING_DIM\n",
    "    )\n",
    "    comp_matrix=Embedding(\n",
    "        fid_type_to_fid_size[\"comp_type\"], EMBEDDING_DIM\n",
    "    )\n",
    "    \n",
    "    action_emb = action_matrix(inputs)\n",
    "    comp_emb = comp_matrix(comp_inputs)\n",
    "    weekend_action_emb = action_matrix(weekend_inputs)\n",
    "    weekend_comp_emb = action_matrix(weekend_comp_inputs)\n",
    "    \n",
    "    time_emb = Embedding(\n",
    "        fid_type_to_fid_size[\"time_slot\"], EMBEDDING_DIM\n",
    "    )(time_inputs)\n",
    "\n",
    "    \n",
    "    print 'emb', time_emb.shape\n",
    "    \n",
    "    #========== 直接摊平 48 * 4 = 192 维 embedding，时间的192维 & action_type 的192维做内积\n",
    "    action_concat_emb = tf.keras.layers.Flatten()(action_emb)\n",
    "    comp_concat_emb = tf.keras.layers.Flatten()(comp_emb)\n",
    "    weekend_action_concat_emb = tf.keras.layers.Flatten()(weekend_action_emb)\n",
    "    weekend_comp_concat_emb = tf.keras.layers.Flatten()(weekend_comp_emb)\n",
    "    \n",
    "    time_concat_emb = tf.keras.layers.Flatten()(time_emb)\n",
    "    \n",
    "    print 'concat_emb', action_concat_emb.shape, time_concat_emb.shape\n",
    "    \n",
    "    logits = tf.concat([\n",
    "        tf.multiply(action_concat_emb, time_concat_emb),\n",
    "        tf.multiply(comp_concat_emb, time_concat_emb),\n",
    "        tf.multiply(weekend_action_concat_emb, time_concat_emb),\n",
    "        tf.multiply(weekend_comp_concat_emb, time_concat_emb),\n",
    "    ],axis=1)\n",
    "    logits_final = tf.reduce_sum(logits, axis=1, keepdims=True)\n",
    "    \n",
    "    #=========== 最后需要输出两个label 过一个Dense层把一个logit值映射到 2 个值上，再过一层softmax转化为概率值\n",
    "    prediction_act_comp = tf.keras.layers.Dense(LABEL_CLASSES, activation=None)(logits_final)\n",
    "    numeric_layer = tf.keras.layers.Dense(LABEL_CLASSES, activation=None)\n",
    "    prediction_numeric = numeric_layer(numeric_inputs)\n",
    "\n",
    "    prediction = tf.nn.softmax(prediction_act_comp + prediction_numeric)\n",
    "    # prediction = tf.nn.softmax(prediction_numeric)\n",
    "    \n",
    "    print 'logit shape', logits.shape, logits_final.shape, prediction.shape\n",
    "    print labels.shape\n",
    "    \n",
    "    loss = tf.reduce_mean(tf.nn.sigmoid_cross_entropy_with_logits(logits=prediction, labels=labels))\n",
    "    train_optim = tf.train.AdamOptimizer().minimize(loss) # 训网络\n",
    "    init = tf.global_variables_initializer()\n",
    "    sess.run(init)\n",
    "\n",
    "    for _ in range(3000):\n",
    "        sess.run(train_optim, feed_dict={\n",
    "            inputs: raw_inputs, comp_inputs: raw_comp_inputs,\n",
    "            weekend_inputs: raw_weekend_inputs, weekend_comp_inputs: raw_weekend_comp_inputs,\n",
    "            time_inputs: raw_time_inputs, numeric_inputs: raw_numeric_inputs,\n",
    "            labels: raw_labels\n",
    "        })\n",
    "        if _ % 500 == 0:\n",
    "            print sess.run(loss, feed_dict={\n",
    "                inputs: raw_inputs, comp_inputs: raw_comp_inputs,\n",
    "                weekend_inputs: raw_weekend_inputs, weekend_comp_inputs: raw_weekend_comp_inputs,\n",
    "                time_inputs: raw_time_inputs, numeric_inputs: raw_numeric_inputs,\n",
    "                labels: raw_labels\n",
    "            })\n",
    "\n",
    "\n",
    "    final_ret = sess.run(prediction, feed_dict={\n",
    "        inputs: raw_inputs, comp_inputs: raw_comp_inputs,\n",
    "        weekend_inputs: raw_weekend_inputs, weekend_comp_inputs: raw_weekend_comp_inputs,\n",
    "        time_inputs: raw_time_inputs, numeric_inputs: raw_numeric_inputs\n",
    "    })\n",
    "    final_analysis = sess.run(\n",
    "        logits, feed_dict={\n",
    "            inputs: raw_inputs, comp_inputs: raw_comp_inputs,\n",
    "            weekend_inputs: raw_weekend_inputs, weekend_comp_inputs: raw_weekend_comp_inputs,\n",
    "            time_inputs: raw_time_inputs\n",
    "        }\n",
    "    )\n",
    "#     weight_analysis = sess.run(\n",
    "#         logits, feed_dict={\n",
    "#             inputs: raw_inputs, comp_inputs: raw_comp_inputs,\n",
    "#             time_inputs: raw_time_inputs\n",
    "#         }\n",
    "#     )\n",
    "    \n",
    "    table_input = np.array([list(np.array(range(29)) + 1) + [1] * 19])\n",
    "    action_emb_table = sess.run(action_emb, feed_dict={inputs: table_input})\n",
    "#     print sess.run(action_concat_emb, feed_dict={inputs: raw_inputs})"
   ]
  },
  {
   "cell_type": "code",
   "execution_count": 60,
   "metadata": {},
   "outputs": [
    {
     "data": {
      "text/plain": [
       "array([[-0.7545672 , -0.46335864, -0.76679033],\n",
       "       [-0.6434724 , -0.07518214, -0.64590514],\n",
       "       [-0.4478403 , -0.658989  , -0.6961552 ],\n",
       "       [ 0.76844454, -0.42839682,  0.3863293 ],\n",
       "       [-0.73458505, -0.04746658, -0.6953465 ],\n",
       "       [-0.15188587, -0.34801766,  0.5125421 ],\n",
       "       [ 0.31984973, -0.21448052,  0.4712019 ]], dtype=float32)"
      ]
     },
     "execution_count": 60,
     "metadata": {},
     "output_type": "execute_result"
    }
   ],
   "source": [
    "numeric_layer.get_weights()[0]"
   ]
  },
  {
   "cell_type": "code",
   "execution_count": null,
   "metadata": {},
   "outputs": [],
   "source": [
    "np.concatenate"
   ]
  },
  {
   "cell_type": "code",
   "execution_count": null,
   "metadata": {},
   "outputs": [],
   "source": []
  },
  {
   "cell_type": "code",
   "execution_count": 67,
   "metadata": {},
   "outputs": [
    {
     "data": {
      "text/plain": [
       "(1272, 3)"
      ]
     },
     "execution_count": 67,
     "metadata": {},
     "output_type": "execute_result"
    }
   ],
   "source": [
    "final_ret.shape"
   ]
  },
  {
   "cell_type": "code",
   "execution_count": 70,
   "metadata": {},
   "outputs": [
    {
     "data": {
      "text/plain": [
       "(1272,)"
      ]
     },
     "execution_count": 70,
     "metadata": {},
     "output_type": "execute_result"
    }
   ],
   "source": [
    "np.array(label_check).shape"
   ]
  },
  {
   "cell_type": "code",
   "execution_count": 80,
   "metadata": {},
   "outputs": [
    {
     "data": {
      "text/plain": [
       "array([[3.81260409e-16, 3.48191243e-04, 9.99651790e-01, 0.00000000e+00],\n",
       "       [1.00000000e+00, 1.12674496e-12, 1.08893369e-27, 2.00000000e+00],\n",
       "       [9.99996543e-01, 3.50443543e-06, 1.35712731e-16, 0.00000000e+00],\n",
       "       ...,\n",
       "       [9.99995589e-01, 4.35863376e-06, 2.09928358e-14, 0.00000000e+00],\n",
       "       [1.00000000e+00, 2.73716480e-17, 0.00000000e+00, 1.00000000e+00],\n",
       "       [0.00000000e+00, 1.05592130e-21, 1.00000000e+00, 2.00000000e+00]])"
      ]
     },
     "execution_count": 80,
     "metadata": {},
     "output_type": "execute_result"
    }
   ],
   "source": [
    "np.concatenate(\n",
    "    (final_ret, np.expand_dims(label_check, axis=1)),\n",
    "    axis = 1\n",
    ")"
   ]
  },
  {
   "cell_type": "code",
   "execution_count": 77,
   "metadata": {},
   "outputs": [
    {
     "data": {
      "text/plain": [
       "array([[1, 2, 3, 4]])"
      ]
     },
     "execution_count": 77,
     "metadata": {},
     "output_type": "execute_result"
    }
   ],
   "source": [
    "np.concatenate(\n",
    "    (np.array([[1,2]]),np.array([[3,4]])), \n",
    "    axis = 1\n",
    ")"
   ]
  },
  {
   "cell_type": "code",
   "execution_count": null,
   "metadata": {},
   "outputs": [],
   "source": []
  },
  {
   "cell_type": "code",
   "execution_count": 47,
   "metadata": {},
   "outputs": [],
   "source": [
    "max_pos = []\n",
    "for res in final_ret:\n",
    "    max_pos.append(np.where(res == max(res))[0][0])"
   ]
  },
  {
   "cell_type": "code",
   "execution_count": 48,
   "metadata": {},
   "outputs": [],
   "source": [
    "label_check = list(data['satis'])"
   ]
  },
  {
   "cell_type": "code",
   "execution_count": 126,
   "metadata": {},
   "outputs": [
    {
     "data": {
      "text/plain": [
       "True"
      ]
     },
     "execution_count": 126,
     "metadata": {},
     "output_type": "execute_result"
    }
   ],
   "source": [
    "len(max_pos) == len(label_check)"
   ]
  },
  {
   "cell_type": "code",
   "execution_count": 49,
   "metadata": {},
   "outputs": [
    {
     "data": {
      "text/plain": [
       "0.714622641509434"
      ]
     },
     "execution_count": 49,
     "metadata": {},
     "output_type": "execute_result"
    }
   ],
   "source": [
    "sum(np.array(max_pos) == np.array(label_check)) * 1.0 / len(label_check)"
   ]
  },
  {
   "cell_type": "code",
   "execution_count": 50,
   "metadata": {},
   "outputs": [
    {
     "data": {
      "text/plain": [
       "0.10534591194968554"
      ]
     },
     "execution_count": 50,
     "metadata": {},
     "output_type": "execute_result"
    }
   ],
   "source": [
    "sum(abs(np.array(max_pos) - np.array(label_check)) > 1) * 1.0 / len(label_check)"
   ]
  },
  {
   "cell_type": "code",
   "execution_count": 51,
   "metadata": {},
   "outputs": [
    {
     "data": {
      "text/plain": [
       "0.1800314465408805"
      ]
     },
     "execution_count": 51,
     "metadata": {},
     "output_type": "execute_result"
    }
   ],
   "source": [
    "sum(abs(np.array(max_pos) - np.array(label_check)) == 1) * 1.0 / len(label_check)"
   ]
  },
  {
   "cell_type": "code",
   "execution_count": 49,
   "metadata": {},
   "outputs": [
    {
     "data": {
      "text/plain": [
       "0.6855345911949685"
      ]
     },
     "execution_count": 49,
     "metadata": {},
     "output_type": "execute_result"
    }
   ],
   "source": [
    "sum(np.array(max_pos) == np.array(label_check)) * 1.0 / len(label_check)"
   ]
  },
  {
   "cell_type": "code",
   "execution_count": 33,
   "metadata": {},
   "outputs": [
    {
     "name": "stdout",
     "output_type": "stream",
     "text": [
      "==== summary ========\n",
      "predict 0 323\n",
      "label 0 373\n",
      "==== summary ========\n",
      "==== summary ========\n",
      "predict 1 204\n",
      "label 1 388\n",
      "==== summary ========\n",
      "==== summary ========\n",
      "predict 2 745\n",
      "label 2 511\n",
      "==== summary ========\n",
      "==== summary ========\n",
      "predict 3 0\n",
      "label 3 0\n",
      "==== summary ========\n"
     ]
    }
   ],
   "source": [
    "for i in range(4):\n",
    "    print '==== summary ========'\n",
    "    print \"predict\",i, sum(np.array(max_pos) == i)\n",
    "    print \"label\",i, sum(np.array(label_check) == i)\n",
    "    print '==== summary ========'"
   ]
  },
  {
   "cell_type": "code",
   "execution_count": 39,
   "metadata": {},
   "outputs": [
    {
     "name": "stdout",
     "output_type": "stream",
     "text": [
      "==== summary ========\n",
      "0 401\n",
      "0 373\n",
      "==== summary ========\n",
      "==== summary ========\n",
      "1 110\n",
      "1 388\n",
      "==== summary ========\n",
      "==== summary ========\n",
      "2 761\n",
      "2 511\n",
      "==== summary ========\n",
      "==== summary ========\n",
      "3 0\n",
      "3 0\n",
      "==== summary ========\n",
      "==== summary ========\n",
      "4 0\n",
      "4 0\n",
      "==== summary ========\n",
      "==== summary ========\n",
      "5 0\n",
      "5 0\n",
      "==== summary ========\n",
      "==== summary ========\n",
      "6 0\n",
      "6 0\n",
      "==== summary ========\n"
     ]
    }
   ],
   "source": [
    "for i in range(7):\n",
    "    print '==== summary ========'\n",
    "    print i, sum(np.array(max_pos) == i)\n",
    "    print i, sum(np.array(label_check) == i)\n",
    "    print '==== summary ========'"
   ]
  },
  {
   "cell_type": "code",
   "execution_count": 51,
   "metadata": {},
   "outputs": [
    {
     "data": {
      "text/plain": [
       "array([[3.8126041e-16, 3.4819124e-04, 9.9965179e-01],\n",
       "       [1.0000000e+00, 1.1267450e-12, 1.0889337e-27],\n",
       "       [9.9999654e-01, 3.5044354e-06, 1.3571273e-16],\n",
       "       ...,\n",
       "       [9.9999559e-01, 4.3586338e-06, 2.0992836e-14],\n",
       "       [1.0000000e+00, 2.7371648e-17, 0.0000000e+00],\n",
       "       [0.0000000e+00, 1.0559213e-21, 1.0000000e+00]], dtype=float32)"
      ]
     },
     "execution_count": 51,
     "metadata": {},
     "output_type": "execute_result"
    }
   ],
   "source": [
    "final_ret"
   ]
  },
  {
   "cell_type": "code",
   "execution_count": 52,
   "metadata": {},
   "outputs": [
    {
     "data": {
      "text/plain": [
       "(1272, 384)"
      ]
     },
     "execution_count": 52,
     "metadata": {},
     "output_type": "execute_result"
    }
   ],
   "source": [
    "final_analysis.shape"
   ]
  },
  {
   "cell_type": "code",
   "execution_count": 53,
   "metadata": {},
   "outputs": [
    {
     "data": {
      "text/plain": [
       "array([[ 1,  2,  3,  4,  5,  6,  7,  8,  9, 10, 11, 12, 13, 14, 15, 16,\n",
       "        17, 18, 19, 20, 21, 22, 23, 24, 25, 26, 27, 28, 29,  1,  1,  1,\n",
       "         1,  1,  1,  1,  1,  1,  1,  1,  1,  1,  1,  1,  1,  1,  1,  1]])"
      ]
     },
     "execution_count": 53,
     "metadata": {},
     "output_type": "execute_result"
    }
   ],
   "source": [
    "np.array([list(np.array(range(29)) + 1) + [1] * 19])"
   ]
  },
  {
   "cell_type": "code",
   "execution_count": null,
   "metadata": {},
   "outputs": [],
   "source": [
    "#-------------------- dump embedding table"
   ]
  },
  {
   "cell_type": "code",
   "execution_count": null,
   "metadata": {},
   "outputs": [],
   "source": [
    "1. 加陪伴结果 + 定量变量\n",
    "2. Kmeans \n",
    "3. "
   ]
  },
  {
   "cell_type": "code",
   "execution_count": null,
   "metadata": {},
   "outputs": [],
   "source": [
    "# https://tensorflow.google.cn/api_docs/python/tf/nn/sigmoid_cross_entropy_with_logits?hl=en\n",
    "# https://keras.io/zh/activations/#softmax"
   ]
  },
  {
   "cell_type": "code",
   "execution_count": 52,
   "metadata": {},
   "outputs": [],
   "source": [
    "action_emb_table = action_emb_table[0][0:29]"
   ]
  },
  {
   "cell_type": "code",
   "execution_count": 53,
   "metadata": {},
   "outputs": [
    {
     "data": {
      "text/plain": [
       "array([[ 0.772167  , -0.31261978,  0.1648477 ,  0.852857  ],\n",
       "       [ 0.21567836, -0.6825891 ,  0.30477875, -0.6888207 ],\n",
       "       [-1.1791972 , -0.8589727 ,  2.2716725 ,  1.6183841 ],\n",
       "       [ 1.4022113 , -0.6598984 , -0.68143064, -1.639317  ],\n",
       "       [-1.12383   , -0.42627954,  0.16575186, -0.4965347 ],\n",
       "       [-1.5015432 ,  1.3637477 ,  0.7898737 ,  0.17570665],\n",
       "       [-0.30135512,  1.370805  , -0.33052236,  0.05942489],\n",
       "       [-1.5721477 , -0.25923157,  2.466285  , -2.7221692 ],\n",
       "       [-0.1505318 ,  2.1778867 ,  0.03431424,  0.17684326],\n",
       "       [ 1.2063575 , -0.5324123 , -0.34448576,  0.05150562],\n",
       "       [ 1.144671  , -0.9841116 , -0.22622713,  1.4879493 ],\n",
       "       [ 0.9617786 ,  0.96621543, -1.5390246 , -1.5189381 ],\n",
       "       [-0.84590477, -0.00816854, -1.9197216 ,  1.8200673 ],\n",
       "       [-1.3619947 , -1.436405  , -0.45050764,  1.5367578 ],\n",
       "       [-1.3198519 , -2.1693347 , -1.6315707 ,  1.5815594 ],\n",
       "       [ 0.4265082 ,  2.0866303 ,  1.3396161 ,  0.8443427 ],\n",
       "       [-0.30544478, -1.211765  , -1.0629122 , -1.7849786 ],\n",
       "       [ 0.6678283 , -0.4268973 ,  1.5007787 , -0.16773297],\n",
       "       [ 2.2856975 , -1.0631973 ,  2.3855808 ,  0.6960832 ],\n",
       "       [-1.7959409 , -0.82499963, -1.9603322 ,  0.39884675],\n",
       "       [ 0.948447  ,  0.71336687, -0.33214125, -2.8272736 ],\n",
       "       [-0.8921435 ,  2.1726506 , -0.05236875, -0.16732174],\n",
       "       [ 1.7165109 , -0.28028053, -2.12684   ,  1.4372718 ],\n",
       "       [-1.9580634 , -1.6019841 ,  0.26859513, -1.0694634 ],\n",
       "       [ 1.6242018 , -0.602369  ,  1.1879823 ,  0.28116557],\n",
       "       [ 0.95500565, -0.9484124 ,  1.0188359 , -0.7892139 ],\n",
       "       [ 2.0530193 , -0.5142352 , -1.0549397 ,  2.0067456 ],\n",
       "       [-1.366935  , -0.45119417,  0.7932538 ,  0.6992914 ],\n",
       "       [-0.1428658 , -0.9275944 , -0.98465747, -0.80418307]],\n",
       "      dtype=float32)"
      ]
     },
     "execution_count": 53,
     "metadata": {},
     "output_type": "execute_result"
    }
   ],
   "source": [
    "action_emb_table"
   ]
  },
  {
   "cell_type": "code",
   "execution_count": 55,
   "metadata": {},
   "outputs": [],
   "source": [
    "from sklearn.cluster import KMeans\n",
    "y_pred = KMeans(n_clusters=4, random_state=9).fit_predict(action_emb_table)"
   ]
  },
  {
   "cell_type": "code",
   "execution_count": 56,
   "metadata": {},
   "outputs": [],
   "source": [
    "action_type_to_cluster = {\n",
    "    0:[],\n",
    "    1:[],\n",
    "    2:[],\n",
    "    3:[],\n",
    "    4:[],\n",
    "    5:[]\n",
    "}\n",
    "\n",
    "for i in range(29):\n",
    "    cluster = y_pred[i]\n",
    "    action_type_to_cluster[cluster].append(i+1)"
   ]
  },
  {
   "cell_type": "code",
   "execution_count": 57,
   "metadata": {},
   "outputs": [
    {
     "data": {
      "text/plain": [
       "{0: [3, 6, 7, 9, 16, 22, 28],\n",
       " 1: [1, 10, 11, 18, 19, 23, 25, 26, 27],\n",
       " 2: [13, 14, 15, 20],\n",
       " 3: [2, 4, 5, 8, 12, 17, 21, 24, 29],\n",
       " 4: [],\n",
       " 5: []}"
      ]
     },
     "execution_count": 57,
     "metadata": {},
     "output_type": "execute_result"
    }
   ],
   "source": [
    "action_type_to_cluster"
   ]
  },
  {
   "cell_type": "code",
   "execution_count": 59,
   "metadata": {},
   "outputs": [],
   "source": [
    "from sklearn.datasets.samples_generator import make_blobs\n",
    "# X为样本特征，Y为样本簇类别， 共1000个样本，每个样本2个特征，共4个簇，簇中心在[-1,-1], [0,0],[1,1], [2,2]， 簇方差分别为[0.4, 0.2, 0.2]\n",
    "X, y = make_blobs(n_samples=1000, n_features=2, centers=[[-1,-1], [0,0], [1,1], [2,2]], cluster_std=[0.4, 0.2, 0.2, 0.2], \n",
    "                  random_state =9)"
   ]
  },
  {
   "cell_type": "code",
   "execution_count": 61,
   "metadata": {},
   "outputs": [],
   "source": [
    "\n",
    "# plt.scatter(X[:, 0], X[:, 1], c=y_pred)\n",
    "# plt.show()\n"
   ]
  },
  {
   "cell_type": "code",
   "execution_count": 133,
   "metadata": {},
   "outputs": [],
   "source": [
    "final_analysis_with_label = np.concatenate(\n",
    "    (final_ret, np.expand_dims(label_check, axis=1)),\n",
    "    axis = 1\n",
    ")"
   ]
  },
  {
   "cell_type": "code",
   "execution_count": 132,
   "metadata": {},
   "outputs": [],
   "source": [
    "pd.DataFrame(final_analysis).to_csv(\"/Users/bytedance/LearningProjects/practice_shouqianba/analysis_matrix_whole.txt\")"
   ]
  },
  {
   "cell_type": "code",
   "execution_count": 135,
   "metadata": {},
   "outputs": [],
   "source": [
    "pd.DataFrame(final_analysis_with_label).to_csv(\"/Users/bytedance/LearningProjects/practice_shouqianba/analysis_matrix_with_label_whole.txt\", index=False)"
   ]
  },
  {
   "cell_type": "code",
   "execution_count": 130,
   "metadata": {},
   "outputs": [
    {
     "data": {
      "text/plain": [
       "(1272, 768)"
      ]
     },
     "execution_count": 130,
     "metadata": {},
     "output_type": "execute_result"
    }
   ],
   "source": [
    "final_analysis.shape"
   ]
  },
  {
   "cell_type": "code",
   "execution_count": 134,
   "metadata": {},
   "outputs": [
    {
     "data": {
      "text/plain": [
       "(1272, 4)"
      ]
     },
     "execution_count": 134,
     "metadata": {},
     "output_type": "execute_result"
    }
   ],
   "source": [
    "final_analysis_with_label.shape"
   ]
  },
  {
   "cell_type": "code",
   "execution_count": null,
   "metadata": {},
   "outputs": [],
   "source": [
    "#=========== 几种建模方式\n",
    "1. "
   ]
  },
  {
   "cell_type": "code",
   "execution_count": null,
   "metadata": {},
   "outputs": [],
   "source": []
  },
  {
   "cell_type": "code",
   "execution_count": 136,
   "metadata": {},
   "outputs": [],
   "source": [
    "a = [1,2,3]\n",
    "b = np.array([1,2,3])"
   ]
  },
  {
   "cell_type": "code",
   "execution_count": 137,
   "metadata": {},
   "outputs": [
    {
     "data": {
      "text/plain": [
       "[1, 2, 3]"
      ]
     },
     "execution_count": 137,
     "metadata": {},
     "output_type": "execute_result"
    }
   ],
   "source": [
    "a"
   ]
  },
  {
   "cell_type": "code",
   "execution_count": 1,
   "metadata": {},
   "outputs": [
    {
     "data": {
      "text/plain": [
       "6"
      ]
     },
     "execution_count": 1,
     "metadata": {},
     "output_type": "execute_result"
    }
   ],
   "source": [
    "6"
   ]
  },
  {
   "cell_type": "code",
   "execution_count": null,
   "metadata": {},
   "outputs": [],
   "source": []
  }
 ],
 "metadata": {
  "kernelspec": {
   "display_name": "Python 2",
   "language": "python",
   "name": "python2"
  },
  "language_info": {
   "codemirror_mode": {
    "name": "ipython",
    "version": 2
   },
   "file_extension": ".py",
   "mimetype": "text/x-python",
   "name": "python",
   "nbconvert_exporter": "python",
   "pygments_lexer": "ipython2",
   "version": "2.7.18"
  }
 },
 "nbformat": 4,
 "nbformat_minor": 5
}
