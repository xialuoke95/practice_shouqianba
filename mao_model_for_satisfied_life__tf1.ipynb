{
 "cells": [
  {
   "cell_type": "code",
   "execution_count": 2,
   "metadata": {},
   "outputs": [],
   "source": [
    "import tensorflow as tf\n",
    "import numpy as np\n",
    "from tensorflow import keras\n",
    "from tensorflow.keras.layers import Embedding\n",
    "from tensorflow.keras import Sequential"
   ]
  },
  {
   "cell_type": "code",
   "execution_count": 2,
   "metadata": {},
   "outputs": [
    {
     "data": {
      "text/plain": [
       "'1.13.1'"
      ]
     },
     "execution_count": 2,
     "metadata": {},
     "output_type": "execute_result"
    }
   ],
   "source": [
    "tf.__version__"
   ]
  },
  {
   "cell_type": "code",
   "execution_count": null,
   "metadata": {},
   "outputs": [],
   "source": []
  },
  {
   "cell_type": "code",
   "execution_count": null,
   "metadata": {},
   "outputs": [],
   "source": [
    "#======================= Input"
   ]
  },
  {
   "cell_type": "code",
   "execution_count": 3,
   "metadata": {},
   "outputs": [
    {
     "data": {
      "text/plain": [
       "array([[1, 2],\n",
       "       [3, 4]])"
      ]
     },
     "execution_count": 3,
     "metadata": {},
     "output_type": "execute_result"
    }
   ],
   "source": [
    "a = np.array([[1, 2], [3, 4]])\n",
    "b = np.array([[5, 6]])\n",
    "np.concatenate((a, b), axis=0)\n",
    "\n",
    "x_inputs = []\n",
    "x_inputs.append([1,2])\n",
    "x_inputs.append([3,4])\n",
    "np.array(x_inputs)"
   ]
  },
  {
   "cell_type": "code",
   "execution_count": 23,
   "metadata": {},
   "outputs": [
    {
     "name": "stdout",
     "output_type": "stream",
     "text": [
      "[1, 0, 4, 2] 1\n",
      "[0, 3, 4, 2] 1\n",
      "[0, 1, 3, 2] 0\n",
      "[0, 1, 2, 3] 0\n"
     ]
    }
   ],
   "source": [
    "raw_inputs = []\n",
    "raw_labels = []\n",
    "\n",
    "for line in open(\"/Users/bytedance/LearningProjects/practice_shouqianba/test_data.txt\", 'r'):\n",
    "    line_inputs, line_label = line.split(' ')\n",
    "    line_inputs = [int(_) - 1 for _ in line_inputs.split(',')]\n",
    "    line_label = int(line_label)\n",
    "    print line_inputs, line_label\n",
    "    \n",
    "    raw_inputs.append(line_inputs)\n",
    "    raw_labels.append(line_label)"
   ]
  },
  {
   "cell_type": "code",
   "execution_count": 24,
   "metadata": {},
   "outputs": [],
   "source": [
    "raw_inputs = np.array(raw_inputs)\n",
    "raw_labels = np.array(raw_labels)\n",
    "\n",
    "classes = 2\n",
    "raw_labels = np.eye(classes)[raw_labels]"
   ]
  },
  {
   "cell_type": "code",
   "execution_count": 25,
   "metadata": {},
   "outputs": [
    {
     "name": "stdout",
     "output_type": "stream",
     "text": [
      "[[1 0 4 2]\n",
      " [0 3 4 2]\n",
      " [0 1 3 2]\n",
      " [0 1 2 3]]\n",
      "[[0. 1.]\n",
      " [0. 1.]\n",
      " [1. 0.]\n",
      " [1. 0.]]\n"
     ]
    }
   ],
   "source": [
    "print raw_inputs\n",
    "print raw_labels"
   ]
  },
  {
   "cell_type": "code",
   "execution_count": null,
   "metadata": {},
   "outputs": [],
   "source": []
  },
  {
   "cell_type": "code",
   "execution_count": 13,
   "metadata": {},
   "outputs": [],
   "source": [
    "fid_size = 5\n",
    "embedding_dim = 4\n",
    "emb = Embedding(fid_size, embedding_dim)\n",
    "inputs = tf.keras.Input(shape=(None,), dtype=\"int64\")\n",
    "#                         embeddings_initializer=feat.embeddings_initializer,\n",
    "#                         embeddings_regularizer=l2(l2_reg),\n",
    "\n"
   ]
  },
  {
   "cell_type": "code",
   "execution_count": 13,
   "metadata": {},
   "outputs": [
    {
     "name": "stdout",
     "output_type": "stream",
     "text": [
      "(4, 4) (4, 1)\n"
     ]
    }
   ],
   "source": [
    "print raw_inputs.shape,raw_labels.shape"
   ]
  },
  {
   "cell_type": "code",
   "execution_count": null,
   "metadata": {},
   "outputs": [],
   "source": []
  },
  {
   "cell_type": "code",
   "execution_count": null,
   "metadata": {},
   "outputs": [],
   "source": [
    "#====================== test"
   ]
  },
  {
   "cell_type": "code",
   "execution_count": 29,
   "metadata": {},
   "outputs": [
    {
     "name": "stdout",
     "output_type": "stream",
     "text": [
      "(?, 2)\n",
      "(?, 2)\n",
      "0.713549\n",
      "[[0.46424958 0.53575045]\n",
      " [0.4880799  0.5119201 ]\n",
      " [0.53630865 0.46369132]\n",
      " [0.5008878  0.4991122 ]]\n",
      "[[-0.01590754 -0.03822625  0.0103915  -0.00088073 -0.04013641 -0.02407075\n",
      "  -0.05124259 -0.02752182 -0.02439897  0.04493895  0.05284575 -0.05527276\n",
      "  -0.02013768 -0.02245836 -0.03153827 -0.02312363]\n",
      " [-0.04013641 -0.02407075 -0.05124259 -0.02752182  0.0305381  -0.02574635\n",
      "  -0.05172745  0.03480512 -0.02439897  0.04493895  0.05284575 -0.05527276\n",
      "  -0.02013768 -0.02245836 -0.03153827 -0.02312363]\n",
      " [-0.04013641 -0.02407075 -0.05124259 -0.02752182 -0.01590754 -0.03822625\n",
      "   0.0103915  -0.00088073  0.0305381  -0.02574635 -0.05172745  0.03480512\n",
      "  -0.02013768 -0.02245836 -0.03153827 -0.02312363]\n",
      " [-0.04013641 -0.02407075 -0.05124259 -0.02752182 -0.01590754 -0.03822625\n",
      "   0.0103915  -0.00088073 -0.02013768 -0.02245836 -0.03153827 -0.02312363\n",
      "   0.0305381  -0.02574635 -0.05172745  0.03480512]]\n"
     ]
    }
   ],
   "source": [
    "\n",
    "with tf.Session() as sess:\n",
    "    inputs = tf.keras.Input(shape=(4, ), dtype=\"int64\")\n",
    "    labels = tf.keras.Input(shape=(2, ), dtype=\"float32\")\n",
    "    \n",
    "    emb = Embedding(5, 4)(inputs)\n",
    "    concat_emb = tf.keras.layers.Flatten()(emb)\n",
    "    y = concat_emb\n",
    "    # y = tf.keras.layers.Dense(10, activation='relu')(concat_emb)\n",
    "    prediction = tf.keras.layers.Dense(2, activation='softmax')(y)\n",
    "\n",
    "    print prediction.shape\n",
    "    print labels.shape\n",
    "    \n",
    "    loss = tf.reduce_mean(tf.nn.sigmoid_cross_entropy_with_logits(logits=prediction, labels=labels))\n",
    "    train_optim = tf.train.AdamOptimizer().minimize(loss)\n",
    "    \n",
    "    init = tf.global_variables_initializer()\n",
    "    sess.run(init)\n",
    "\n",
    "    for _ in range(10):\n",
    "        sess.run(train_optim, feed_dict={inputs: raw_inputs, labels: raw_labels})\n",
    "    \n",
    "    print sess.run(loss, feed_dict={inputs: raw_inputs, labels: raw_labels})\n",
    "    print sess.run(prediction, feed_dict={inputs: raw_inputs})\n",
    "    print sess.run(concat_emb, feed_dict={inputs: raw_inputs})"
   ]
  },
  {
   "cell_type": "code",
   "execution_count": null,
   "metadata": {},
   "outputs": [],
   "source": []
  }
 ],
 "metadata": {
  "kernelspec": {
   "display_name": "Python 2",
   "language": "python",
   "name": "python2"
  },
  "language_info": {
   "codemirror_mode": {
    "name": "ipython",
    "version": 2
   },
   "file_extension": ".py",
   "mimetype": "text/x-python",
   "name": "python",
   "nbconvert_exporter": "python",
   "pygments_lexer": "ipython2",
   "version": "2.7.18"
  }
 },
 "nbformat": 4,
 "nbformat_minor": 5
}
