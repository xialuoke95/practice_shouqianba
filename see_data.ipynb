{
 "cells": [
  {
   "cell_type": "code",
   "execution_count": 1,
   "id": "447c9cb8",
   "metadata": {},
   "outputs": [],
   "source": [
    "import sys\n",
    "sys.path.insert(0, '/home/zhangyu.95/LearningProjects/practice_shouqianba')\n",
    "sys.path.insert(0, '/home/zhangyu.95/LearningProjects/DeepCTR')\n",
    "\n",
    "from test_deepctr import *"
   ]
  },
  {
   "cell_type": "code",
   "execution_count": 2,
   "id": "860ab530",
   "metadata": {},
   "outputs": [],
   "source": [
    "data = pd.read_csv(\"/home/zhangyu.95/LearningProjects/dataset/movielens_sample.txt\")\n",
    "train, test = train_test_split(data, test_size=0.2, random_state=2020)"
   ]
  },
  {
   "cell_type": "code",
   "execution_count": 3,
   "id": "db73bd3c",
   "metadata": {},
   "outputs": [
    {
     "data": {
      "text/plain": [
       "76     2478\n",
       "34     1278\n",
       "1      3256\n",
       "40     1077\n",
       "151    1794\n",
       "       ... \n",
       "195    3596\n",
       "118    2100\n",
       "67     2867\n",
       "136     480\n",
       "96     3030\n",
       "Name: movie_id, Length: 160, dtype: int64"
      ]
     },
     "execution_count": 3,
     "metadata": {},
     "output_type": "execute_result"
    }
   ],
   "source": [
    "train['movie_id']"
   ]
  },
  {
   "cell_type": "code",
   "execution_count": 4,
   "id": "a9fb1fce",
   "metadata": {},
   "outputs": [
    {
     "data": {
      "text/plain": [
       "199    1485\n",
       "119    1884\n",
       "186    2420\n",
       "27     1945\n",
       "57        4\n",
       "145    3062\n",
       "161    2021\n",
       "169    3108\n",
       "23     1535\n",
       "191     540\n",
       "130    2918\n",
       "28     2690\n",
       "42     1960\n",
       "177    3102\n",
       "154      21\n",
       "164    1971\n",
       "108    1230\n",
       "115    3095\n",
       "87     1125\n",
       "89     3462\n",
       "95      218\n",
       "92     1019\n",
       "70      156\n",
       "35     2174\n",
       "143    3147\n",
       "41      367\n",
       "104    1792\n",
       "175    1196\n",
       "5      2799\n",
       "163    1242\n",
       "181    1221\n",
       "2       105\n",
       "117     590\n",
       "68      198\n",
       "140    3167\n",
       "101    3194\n",
       "11     3481\n",
       "88     1242\n",
       "120    1042\n",
       "196    1626\n",
       "Name: movie_id, dtype: int64"
      ]
     },
     "execution_count": 4,
     "metadata": {},
     "output_type": "execute_result"
    }
   ],
   "source": [
    "test['movie_id']"
   ]
  },
  {
   "cell_type": "code",
   "execution_count": null,
   "id": "2afe2983",
   "metadata": {},
   "outputs": [],
   "source": []
  }
 ],
 "metadata": {
  "kernelspec": {
   "display_name": "Python 3",
   "language": "python",
   "name": "python3"
  },
  "language_info": {
   "codemirror_mode": {
    "name": "ipython",
    "version": 3
   },
   "file_extension": ".py",
   "mimetype": "text/x-python",
   "name": "python",
   "nbconvert_exporter": "python",
   "pygments_lexer": "ipython3",
   "version": "3.7.3"
  }
 },
 "nbformat": 4,
 "nbformat_minor": 5
}
