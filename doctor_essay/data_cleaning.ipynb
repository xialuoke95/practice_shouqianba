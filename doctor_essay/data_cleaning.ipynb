{
 "cells": [
  {
   "cell_type": "code",
   "execution_count": 1,
   "metadata": {},
   "outputs": [],
   "source": [
    "import pandas as pd\n",
    "import numpy as np\n",
    "import matplotlib.pyplot as plt\n",
    "import json\n",
    "import networkx as nx\n",
    "from matplotlib.font_manager import _rebuild\n",
    "_rebuild()"
   ]
  },
  {
   "cell_type": "code",
   "execution_count": 2,
   "metadata": {},
   "outputs": [
    {
     "data": {
      "text/plain": [
       "<module 'utils' from 'utils.pyc'>"
      ]
     },
     "execution_count": 2,
     "metadata": {},
     "output_type": "execute_result"
    }
   ],
   "source": [
    "\n",
    "\n",
    "from conf import SEPS\n",
    "from utils import get_word_num, GetPara, GetCategoryWeight, print_lis, print_dict\n",
    "import utils\n",
    "import conf\n",
    "reload(conf)\n",
    "reload(utils)\n"
   ]
  },
  {
   "cell_type": "code",
   "execution_count": 3,
   "metadata": {},
   "outputs": [],
   "source": [
    "data = pd.read_csv('/Users/bytedance/LearningProjects/practice_shouqianba/doctor_essay/politics_doc.csv')"
   ]
  },
  {
   "cell_type": "code",
   "execution_count": 4,
   "metadata": {},
   "outputs": [],
   "source": [
    "data.columns = [\n",
    "    'a1', 'a2', 'title', 'a3', 'topic', 'publisher', 'finish_date', \n",
    "    'id', 'publish_date', 'keyword', 'url', 'content', 'word_num', 'has_attachment', \n",
    "    'a5', 'is_han', 'a7'   \n",
    "]"
   ]
  },
  {
   "cell_type": "code",
   "execution_count": 5,
   "metadata": {},
   "outputs": [
    {
     "name": "stderr",
     "output_type": "stream",
     "text": [
      "/Users/bytedance/miniconda3/envs/tf1/lib/python2.7/site-packages/ipykernel_launcher.py:3: SettingWithCopyWarning: \n",
      "A value is trying to be set on a copy of a slice from a DataFrame\n",
      "\n",
      "See the caveats in the documentation: http://pandas.pydata.org/pandas-docs/stable/indexing.html#indexing-view-versus-copy\n",
      "  This is separate from the ipykernel package so we can avoid doing imports until\n"
     ]
    }
   ],
   "source": [
    "data = data.fillna('', inplace=False)\n",
    "is_han_ori_isna = np.where(data['is_han'] == '')[0]\n",
    "data['is_han'][is_han_ori_isna] = [0.0] * len(is_han_ori_isna)"
   ]
  },
  {
   "cell_type": "code",
   "execution_count": 6,
   "metadata": {},
   "outputs": [
    {
     "data": {
      "text/plain": [
       "Index([u'a1', u'a2', u'title', u'a3', u'topic', u'publisher', u'finish_date',\n",
       "       u'id', u'publish_date', u'keyword', u'url', u'content', u'word_num',\n",
       "       u'has_attachment', u'a5', u'is_han', u'a7'],\n",
       "      dtype='object')"
      ]
     },
     "execution_count": 6,
     "metadata": {},
     "output_type": "execute_result"
    }
   ],
   "source": [
    "data.columns"
   ]
  },
  {
   "cell_type": "code",
   "execution_count": 7,
   "metadata": {},
   "outputs": [],
   "source": [
    "data = data[data['is_han'] == 0]\n",
    "data = data[data['content'] != '']\n",
    "# sum(data['is_han'])\n",
    "data.index = np.array([\n",
    "    i for i in range(data.shape[0])\n",
    "])"
   ]
  },
  {
   "cell_type": "code",
   "execution_count": 8,
   "metadata": {},
   "outputs": [],
   "source": [
    "is_renyuan = []\n",
    "for _ in data['title'] :\n",
    "    if '组成人员' in _:\n",
    "        is_renyuan.append(1)\n",
    "    else:\n",
    "        is_renyuan.append(0)\n",
    "\n",
    "data['is_renyuan'] = is_renyuan"
   ]
  },
  {
   "cell_type": "code",
   "execution_count": 9,
   "metadata": {},
   "outputs": [],
   "source": [
    "data = data[data['is_renyuan'] == 0]\n",
    "data.index = np.array([\n",
    "    i for i in range(data.shape[0])\n",
    "])"
   ]
  },
  {
   "cell_type": "code",
   "execution_count": 10,
   "metadata": {},
   "outputs": [
    {
     "data": {
      "text/plain": [
       "(3084, 18)"
      ]
     },
     "execution_count": 10,
     "metadata": {},
     "output_type": "execute_result"
    }
   ],
   "source": [
    "data.shape"
   ]
  },
  {
   "cell_type": "code",
   "execution_count": null,
   "metadata": {},
   "outputs": [],
   "source": [
    "#============================ 读规则"
   ]
  },
  {
   "cell_type": "code",
   "execution_count": 2,
   "metadata": {},
   "outputs": [],
   "source": [
    "import pandas as pd\n",
    "rule_csv = pd.read_csv(\n",
    "    '/Users/bytedance/LearningProjects/practice_shouqianba/doctor_essay/politics_doc_category_rule.csv'\n",
    ")\n",
    "rule_csv.columns = ['category_root', 'category', 'keywords']\n",
    "category_to_keywords = {}\n",
    "for idx, row in rule_csv.iterrows():\n",
    "    category_to_keywords.update({\n",
    "        row['category']:filter(None, row['keywords'].strip().split(' '))\n",
    "    })"
   ]
  },
  {
   "cell_type": "code",
   "execution_count": null,
   "metadata": {},
   "outputs": [],
   "source": [
    "#============================ 校验数据"
   ]
  },
  {
   "cell_type": "code",
   "execution_count": 8,
   "metadata": {},
   "outputs": [
    {
     "data": {
      "text/plain": [
       "array([0, 0, 0, 0, 0, 0, 0, 0, 0, 0, 0, 0, 0, 0, 0, 0, 0])"
      ]
     },
     "execution_count": 8,
     "metadata": {},
     "output_type": "execute_result"
    }
   ],
   "source": [
    "# 查看na\n",
    "sum(np.array(data.isnull().values.tolist()))"
   ]
  },
  {
   "cell_type": "code",
   "execution_count": 34,
   "metadata": {},
   "outputs": [],
   "source": []
  },
  {
   "cell_type": "code",
   "execution_count": 15,
   "metadata": {},
   "outputs": [
    {
     "name": "stdout",
     "output_type": "stream",
     "text": [
      "0 12774.0\n",
      "3281 3300.0\n",
      "5250 5317.0\n",
      "6316 6342.0\n",
      "6915 6951.0\n"
     ]
    }
   ],
   "source": [
    "for i in range(5):\n",
    "    print len(data.loc()[i]['content']) / 3, data.loc()[i]['word_num']"
   ]
  },
  {
   "cell_type": "code",
   "execution_count": 54,
   "metadata": {},
   "outputs": [
    {
     "data": {
      "text/plain": [
       "(5712, 17)"
      ]
     },
     "execution_count": 54,
     "metadata": {},
     "output_type": "execute_result"
    }
   ],
   "source": [
    "data.shape"
   ]
  },
  {
   "cell_type": "code",
   "execution_count": null,
   "metadata": {},
   "outputs": [],
   "source": [
    "#========================== 处理与计算\n",
    "# =============== 1. 对每篇内容分段 & merge段落\n",
    "# =============== 2. 对每个领域计算权重"
   ]
  },
  {
   "cell_type": "code",
   "execution_count": 12,
   "metadata": {},
   "outputs": [],
   "source": [
    "content_paragraph = []\n",
    "para_getter = GetPara(merge_word_num=40)"
   ]
  },
  {
   "cell_type": "code",
   "execution_count": 13,
   "metadata": {},
   "outputs": [],
   "source": [
    "para_list = []\n",
    "para_word_num = []\n",
    "para_num = []"
   ]
  },
  {
   "cell_type": "code",
   "execution_count": 14,
   "metadata": {},
   "outputs": [],
   "source": [
    "for content in data['content']:\n",
    "    para_s_ = para_getter.get_para_lis(content)\n",
    "    para_s = para_getter.merge_para(para_s_)\n",
    "\n",
    "    word_num = [get_word_num(para) for para in para_s]\n",
    "    \n",
    "    para_list.append(para_s)\n",
    "    para_num.append(len(para_s))\n",
    "    \n",
    "    para_word_num.append(word_num)\n",
    "    "
   ]
  },
  {
   "cell_type": "code",
   "execution_count": 15,
   "metadata": {},
   "outputs": [],
   "source": [
    "word_num_one_lis = []\n",
    "for _ in para_word_num:\n",
    "    word_num_one_lis += _"
   ]
  },
  {
   "cell_type": "code",
   "execution_count": 16,
   "metadata": {},
   "outputs": [],
   "source": [
    "weight_getter = GetCategoryWeight(category_to_keywords=category_to_keywords)"
   ]
  },
  {
   "cell_type": "code",
   "execution_count": null,
   "metadata": {},
   "outputs": [],
   "source": [
    "### only once"
   ]
  },
  {
   "cell_type": "code",
   "execution_count": 149,
   "metadata": {},
   "outputs": [],
   "source": [
    "weight_lis = []\n",
    "\n",
    "for _ in para_list:\n",
    "    weight_str = json.dumps(\n",
    "        weight_getter.get_category_weight(_)\n",
    "    )\n",
    "    weight_lis.append(weight_str)\n"
   ]
  },
  {
   "cell_type": "code",
   "execution_count": 159,
   "metadata": {},
   "outputs": [],
   "source": [
    "data['category_weight'] = weight_lis"
   ]
  },
  {
   "cell_type": "code",
   "execution_count": 162,
   "metadata": {},
   "outputs": [],
   "source": [
    "data.to_csv(\n",
    "    '/Users/bytedance/LearningProjects/practice_shouqianba/doctor_essay/politics_doc_with_weight.csv'\n",
    "    ,index=False, encoding='utf_8_sig')"
   ]
  },
  {
   "cell_type": "code",
   "execution_count": null,
   "metadata": {},
   "outputs": [],
   "source": [
    "#======================= 权重矩阵"
   ]
  },
  {
   "cell_type": "code",
   "execution_count": 3,
   "metadata": {},
   "outputs": [],
   "source": [
    "data_weight = pd.read_csv(\n",
    "    '/Users/bytedance/LearningProjects/practice_shouqianba/doctor_essay/politics_doc_with_weight.csv'\n",
    ")"
   ]
  },
  {
   "cell_type": "code",
   "execution_count": 4,
   "metadata": {},
   "outputs": [],
   "source": [
    "category_weight = []\n",
    "for _ in data_weight['category_weight']:\n",
    "    category_weight.append(json.loads(_))"
   ]
  },
  {
   "cell_type": "code",
   "execution_count": 38,
   "metadata": {},
   "outputs": [],
   "source": []
  },
  {
   "cell_type": "code",
   "execution_count": 5,
   "metadata": {},
   "outputs": [],
   "source": [
    "def get_effective_category(weight, thre = 0.05):\n",
    "    categories = []\n",
    "    for key, val in weight.items():\n",
    "        if val > thre:\n",
    "            categories.append(key)\n",
    "    return categories\n",
    "\n",
    "pair_weight_dict = {}\n",
    "all_categoris = [_.decode('utf8') for _ in category_to_keywords.keys()]\n",
    "for _a in all_categoris:\n",
    "    pair_weight_dict[_a] = {}\n",
    "    for _b in all_categoris:\n",
    "        pair_weight_dict[_a][_b] = 0.0\n",
    "\n",
    "for _one in category_weight:\n",
    "    cat_lis = get_effective_category(_one, thre=0.05)\n",
    "    for _a in cat_lis:\n",
    "        for _b in cat_lis:\n",
    "            pair_weight_dict[_a][_b] += 1.0\n",
    "\n",
    "for _a in pair_weight_dict.keys():\n",
    "    for _b in pair_weight_dict[_a]:\n",
    "        pair_weight_dict[_a][_b] = pair_weight_dict[_a][_b] * 1.0 / 400"
   ]
  },
  {
   "cell_type": "code",
   "execution_count": 9,
   "metadata": {},
   "outputs": [
    {
     "data": {
      "text/plain": [
       "(array([308.,  71.,  31.,  17.,   5.,   5.,   1.,   0.,   2.,   1.]),\n",
       " array([ 0.   ,  3.678,  7.356, 11.034, 14.712, 18.39 , 22.068, 25.746,\n",
       "        29.424, 33.102, 36.78 ]),\n",
       " <a list of 10 Patch objects>)"
      ]
     },
     "execution_count": 9,
     "metadata": {},
     "output_type": "execute_result"
    },
    {
     "data": {
      "image/png": "[encoded data removed]",
      "text/plain": [
       "<Figure size 432x288 with 1 Axes>"
      ]
     },
     "metadata": {
      "needs_background": "light"
     },
     "output_type": "display_data"
    }
   ],
   "source": [
    "weight_view = []\n",
    "for _a in pair_weight_dict.keys():\n",
    "    for _b in pair_weight_dict[_a]:\n",
    "        weight_view.append(pair_weight_dict[_a][_b])\n",
    "plt.hist(weight_view)\n",
    "\n",
    "# 暂定 /50 这个级别"
   ]
  },
  {
   "cell_type": "code",
   "execution_count": 6,
   "metadata": {},
   "outputs": [
    {
     "data": {
      "image/png": "[encoded data removed]",
      "text/plain": [
       "<Figure size 432x288 with 1 Axes>"
      ]
     },
     "metadata": {},
     "output_type": "display_data"
    }
   ],
   "source": [
    "# fig = plt.figure(1, figsize=(200, 80))\n",
    "\n",
    "G = nx.Graph()#创建空的网络图\n",
    "\n",
    "for _a in pair_weight_dict.keys():\n",
    "    for _b in pair_weight_dict[_a]:\n",
    "        G.add_edge(_a, _b, weight=pair_weight_dict[_a][_b])\n",
    "\n",
    "options = {\n",
    "    \"node_color\": \"#A0CBE2\",\n",
    "    \"edge_color\": \"lightblue\",\n",
    "    \"width\": [G[a][b].get('weight', 0.0) for a,b in G.edges],\n",
    "    \"edge_cmap\": plt.cm.Blues,\n",
    "    \"font_family\":'SimHei', \n",
    "    \"font_size\": 5,\n",
    "    \"node_size\": 200,\n",
    "}\n",
    "\n",
    "nx.draw(G, with_labels=True, font_weight='bold',**options)\n"
   ]
  },
  {
   "cell_type": "code",
   "execution_count": 7,
   "metadata": {},
   "outputs": [
    {
     "data": {
      "text/plain": [
       "<Figure size 36000x14400 with 0 Axes>"
      ]
     },
     "metadata": {},
     "output_type": "display_data"
    }
   ],
   "source": [
    "fig = plt.figure(1, figsize=(500, 200))"
   ]
  },
  {
   "cell_type": "code",
   "execution_count": 8,
   "metadata": {},
   "outputs": [
    {
     "data": {
      "image/png": "[encoded data removed]",
      "text/plain": [
       "<Figure size 432x288 with 1 Axes>"
      ]
     },
     "metadata": {},
     "output_type": "display_data"
    }
   ],
   "source": [
    "G = nx.Graph()#创建空的网络图\n",
    "\n",
    "for _a in pair_weight_dict.keys():\n",
    "    for _b in pair_weight_dict[_a]:\n",
    "        G.add_edge(_a, _b, weight=pair_weight_dict[_a][_b])\n",
    "\n",
    "options = {\n",
    "    \"node_color\": \"#A0CBE2\",\n",
    "    \"edge_color\": \"lightblue\",\n",
    "    \"width\": [G[a][b].get('weight', 0.0) for a,b in G.edges],\n",
    "    \"edge_cmap\": plt.cm.Blues,\n",
    "    \"font_family\":'SimHei', \n",
    "    \"font_size\": 5,\n",
    "    \"node_size\": 200,\n",
    "}\n",
    "\n",
    "nx.draw(G, with_labels=True, font_weight='bold',**options)\n"
   ]
  },
  {
   "cell_type": "code",
   "execution_count": null,
   "metadata": {},
   "outputs": [],
   "source": []
  },
  {
   "cell_type": "code",
   "execution_count": 35,
   "metadata": {},
   "outputs": [
    {
     "data": {
      "text/plain": [
       "(array([1235.,  867.,  543.,  231.,  128.,   35.,   21.,   13.,    7.,\n",
       "           4.]),\n",
       " array([ 1. ,  6.5, 12. , 17.5, 23. , 28.5, 34. , 39.5, 45. , 50.5, 56. ]),\n",
       " <a list of 10 Patch objects>)"
      ]
     },
     "execution_count": 35,
     "metadata": {},
     "output_type": "execute_result"
    },
    {
     "data": {
      "image/png": "[encoded data removed]",
      "text/plain": [
       "<Figure size 432x288 with 1 Axes>"
      ]
     },
     "metadata": {
      "needs_background": "light"
     },
     "output_type": "display_data"
    }
   ],
   "source": [
    "#===================== 自然段数量的分布\n",
    "plt.hist(para_num)"
   ]
  },
  {
   "cell_type": "code",
   "execution_count": 36,
   "metadata": {},
   "outputs": [
    {
     "data": {
      "text/plain": [
       "(array([2.7747e+04, 8.5700e+02, 1.5700e+02, 4.9000e+01, 1.2000e+01,\n",
       "        7.0000e+00, 1.0000e+00, 4.0000e+00, 0.0000e+00, 1.0000e+00]),\n",
       " array([3.0000e+00, 9.4630e+02, 1.8896e+03, 2.8329e+03, 3.7762e+03,\n",
       "        4.7195e+03, 5.6628e+03, 6.6061e+03, 7.5494e+03, 8.4927e+03,\n",
       "        9.4360e+03]),\n",
       " <a list of 10 Patch objects>)"
      ]
     },
     "execution_count": 36,
     "metadata": {},
     "output_type": "execute_result"
    },
    {
     "data": {
      "image/png": "[encoded data removed]",
      "text/plain": [
       "<Figure size 432x288 with 1 Axes>"
      ]
     },
     "metadata": {
      "needs_background": "light"
     },
     "output_type": "display_data"
    }
   ],
   "source": [
    "plt.hist(word_num_one_lis)"
   ]
  },
  {
   "cell_type": "code",
   "execution_count": null,
   "metadata": {},
   "outputs": [],
   "source": []
  },
  {
   "cell_type": "code",
   "execution_count": null,
   "metadata": {},
   "outputs": [],
   "source": []
  },
  {
   "cell_type": "code",
   "execution_count": null,
   "metadata": {},
   "outputs": [],
   "source": []
  },
  {
   "cell_type": "code",
   "execution_count": null,
   "metadata": {},
   "outputs": [],
   "source": [
    "交通\n",
    "财政\n",
    "财政\n",
    "\n",
    "1.\n",
    "\n",
    "1/3  2/3\n"
   ]
  },
  {
   "cell_type": "code",
   "execution_count": null,
   "metadata": {},
   "outputs": [],
   "source": [
    "人标数据：文本 - 类型  0/1.\n",
    "文本 - a类型 0~1, B类型 0~1. 归一化: 预估。。这一段一定讲到了\n",
    "\n",
    "挖掘数据：文本 - a类型，权重\n",
    "\n",
    "人标注 几百 0/1\n",
    "挖掘：权重 0/1"
   ]
  },
  {
   "cell_type": "code",
   "execution_count": null,
   "metadata": {},
   "outputs": [],
   "source": [
    "KL"
   ]
  },
  {
   "cell_type": "code",
   "execution_count": null,
   "metadata": {},
   "outputs": [],
   "source": [
    "#============================== 看Case"
   ]
  },
  {
   "cell_type": "code",
   "execution_count": 49,
   "metadata": {},
   "outputs": [],
   "source": []
  },
  {
   "cell_type": "code",
   "execution_count": 15,
   "metadata": {},
   "outputs": [],
   "source": [
    "weight_getter = GetCategoryWeight(category_to_keywords=category_to_keywords)"
   ]
  },
  {
   "cell_type": "code",
   "execution_count": 18,
   "metadata": {},
   "outputs": [
    {
     "name": "stdout",
     "output_type": "stream",
     "text": [
      "财政 0\n",
      "人才 0\n",
      "土地 0\n",
      "科技与科研 0\n",
      "旅游业供给 0\n",
      "组织建设 0\n",
      "提高居民收入 0\n",
      "政策落实 0\n",
      "文化资源 0\n",
      "刺激旅游消费 0\n",
      "规划指导 0\n",
      "投资 0\n",
      "其他产业支持 0\n",
      "促进居民消费 0\n",
      "环境 2\n",
      "政府工作 1\n",
      "区域发展 0\n",
      "安全保障 0\n",
      "提高居民生活保障 0\n",
      "行业规范与引导 0\n",
      "基础设施 1\n",
      "=======================\n",
      "财政 0.0\n",
      "人才 0.0\n",
      "土地 0.0\n",
      "科技与科研 0.0\n",
      "旅游业供给 0.0\n",
      "组织建设 0.0\n",
      "提高居民收入 0.0\n",
      "政策落实 0.0\n",
      "文化资源 0.0\n",
      "刺激旅游消费 0.0\n",
      "规划指导 0.0\n",
      "投资 0.0\n",
      "其他产业支持 0.0\n",
      "促进居民消费 0.0\n",
      "环境 0.5\n",
      "政府工作 0.25\n",
      "区域发展 0.0\n",
      "安全保障 0.0\n",
      "提高居民生活保障 0.0\n",
      "行业规范与引导 0.0\n",
      "基础设施 0.25\n",
      "促进节能减排\n",
      "节能减排降碳\n"
     ]
    }
   ],
   "source": [
    "one_para = para_list[1][0]\n",
    "weight_getter.debug_one_para_category_weight(one_para, category='环境', only_case=False)"
   ]
  },
  {
   "cell_type": "code",
   "execution_count": 17,
   "metadata": {},
   "outputs": [
    {
     "name": "stdout",
     "output_type": "stream",
     "text": [
      "========\n",
      "国务院办公厅关于印发推进多式联运发展优化调整运输结构工作方案（2021—2025年）的通知国办发〔2021〕54号各省、自治区、直辖市人民政府，国务院各部委、各直属机构：《推进多式联运发展优化调整运输结构工作方案（2021—2025年）》已经国务院同意，现印发给你们，请结合实际，认真组织实施。国务院办公厅2021年12月25日（此件公开发布）推进多式联运发展优化调整运输结构工作方案（2021—2025年）为深入贯彻落实党中央、国务院决策部署，大力发展多式联运，推动各种交通运输方式深度融合，进一步优化调整运输结构，提升综合运输效率，降低社会物流成本，促进节能减排降碳，制定本方案\n",
      "========\n",
      "总体要求指导思想。以习近平新时代中国特色社会主义思想为指导，深入贯彻党的十九大和十九届历次全会精神，立足新发展阶段，完整、准确、全面贯彻新发展理念，以推动高质量发展为主题，以深化供给侧结构性改革为主线，以加快建设交通强国为目标，以发展多式联运为抓手，提升基础设施联通水平，促进运输组织模式创新，推动技术装备升级，营造统一开放市场环境，加快构建安全、便捷、高效、绿色、经济的现代化综合交通体系，更好服务构建新发展格局，为实现碳达峰、碳中和目标作出交通贡献。\n",
      "========\n",
      "工作目标。到2025年，多式联运发展水平明显提升，基本形成大宗货物及集装箱中长距离运输以铁路和水路为主的发展格局，全国铁路和水路货运量比2020年分别增长10%和12%左右，集装箱铁水联运量年均增长15%以上。重点区域运输结构显著优化，京津冀及周边地区、长三角地区、粤港澳大湾区等沿海主要港口利用疏港铁路、水路、封闭式皮带廊道、新能源汽车运输大宗货物的比例力争达到80%；晋陕蒙煤炭主产区大型工矿企业中长距离运输（运距500公里以上）的煤炭和焦炭中，铁路运输比例力争达到90%\n",
      "========\n",
      "提升多式联运承载能力和衔接水平完善多式联运骨干通道。强化规划统筹引领，提高交通基础设施一体化布局和建设水平，加快建设以“6轴7廊8通道”主骨架为重点的综合立体交通网，提升京沪、陆桥、沪昆、广昆等综合运输通道功能，加快推进西部陆海新通道、长江黄金水道、西江水运通道等建设，补齐出疆入藏和中西部地区、沿江沿海沿边骨干通道基础设施短板，挖掘既有干线铁路运能，加快铁路干线瓶颈路段扩能改造。（交通运输部、国家发展改革委、国家铁路局、中国民航局、中国国家铁路集团有限公司等按职责分工负责，地方各级人民政府落实。以下均需地方各级人民政府落实，不再列出）\n",
      "========\n",
      "加快货运枢纽布局建设。加快港口物流枢纽建设，完善港口多式联运、便捷通关等服务功能，合理布局内陆无水港。完善铁路物流基地布局，优化管理模式，加强与综合货运枢纽衔接，推动铁路场站向重点港口、枢纽机场、产业集聚区、大宗物资主产区延伸。有序推进专业性货运枢纽机场建设，强化枢纽机场货物转运、保税监管、邮政快递、冷链物流等综合服务功能，鼓励发展与重点枢纽机场联通配套的轨道交通。依托国家物流枢纽、综合货运枢纽布局建设国际寄递枢纽和邮政快递集散分拨中心。（交通运输部、国家发展改革委、财政部、中国国家铁路集团有限公司牵头，海关总署、国家铁路局、中国民航局、国家邮政局等配合）\n",
      "========\n",
      "健全港区、园区等集疏运体系。加快推动铁路直通主要港口的规模化港区，各主要港口在编制港口规划或集疏运规划时，原则上要明确联通铁路，确定集疏运目标，同步做好铁路用地规划预留控制；在新建或改扩建集装箱、大宗干散货作业区时，原则上要同步建设进港铁路，配足到发线、装卸线，实现铁路深入码头堆场。加快推进港口集疏运公路扩能改造。新建或迁建煤炭、矿石、焦炭等大宗货物年运量150万吨以上的物流园区、工矿企业及粮食储备库等，原则上要接入铁路专用线或管道。挖掘既有铁路专用线潜能，推动共线共用。（交通运输部、国家发展改革委、生态环境部、国家铁路局、中国国家铁路集团有限公司等按职责分工负责）三、创新多式联运组织模式\n",
      "========\n",
      "丰富多式联运服务产品。加大35吨敞顶箱使用力度，探索建立以45英尺内陆标准箱为载体的内贸多式联运体系。在符合条件的港口试点推进“船边直提”和“抵港直装”模式。大力发展铁路快运，推动冷链、危化品、国内邮件快件等专业化联运发展。鼓励重点城市群建设绿色货运配送示范区。充分挖掘城市铁路场站和线路资源，创新“外集内配”等生产生活物资公铁联运模式。支持港口城市结合城区老码头改造，发展生活物资水陆联运。（交通运输部、中国国家铁路集团有限公司牵头，国家发展改革委、商务部、生态环境部、海关总署、国家铁路局、中国民航局、国家邮政局等配合）\n",
      "========\n",
      "培育多式联运市场主体。深入开展多式联运示范工程建设，到2025年示范工程企业运营线路基本覆盖国家综合立体交通网主骨架。鼓励港口航运、铁路货运、航空寄递、货代企业及平台型企业等加快向多式联运经营人转型。（交通运输部、国家发展改革委牵头，国家铁路局、中国民航局、国家邮政局、中国国家铁路集团有限公司等配合）\n",
      "========\n",
      "推进运输服务规则衔接。以铁路与海运衔接为重点，推动建立与多式联运相适应的规则协调和互认机制。研究制定不同运输方式货物品名、危险货物划分等互认目录清单，建立完善货物装载交接、安全管理、支付结算等规则体系。深入推进多式联运“一单制”，探索应用集装箱多式联运运单，推动各类单证电子化。探索推进国际铁路联运运单、多式联运单证物权化，稳步扩大在“一带一路”运输贸易中的应用范围。（交通运输部、中国国家铁路集团有限公司牵头，商务部、司法部、国家铁路局、中国民航局、国家邮政局等配合）\n",
      "========\n",
      "加大信息资源共享力度。加强铁路、港口、船公司、民航等企业信息系统对接和数据共享，开放列车到发时刻、货物装卸、船舶进离港等信息。加快推进北斗系统在营运车船上的应用，到2025年基本实现运输全程可监测、可追溯。（交通运输部、中国国家铁路集团有限公司牵头，国务院国资委、国家铁路局、中国民航局、国家邮政局等配合）四、促进重点区域运输结构调整\n"
     ]
    }
   ],
   "source": [
    "for _ in para_list[1]:\n",
    "    print '========'\n",
    "    print _"
   ]
  },
  {
   "cell_type": "code",
   "execution_count": 177,
   "metadata": {},
   "outputs": [
    {
     "data": {
      "text/plain": [
       "{'\\\\u4eba\\\\u624d': 0.0,\n",
       " '\\\\u4fc3\\\\u8fdb\\\\u5c45\\\\u6c11\\\\u6d88\\\\u8d39': 0.0,\n",
       " '\\\\u5176\\\\u4ed6\\\\u4ea7\\\\u4e1a\\\\u652f\\\\u6301': 0.03333333333333334,\n",
       " '\\\\u523a\\\\u6fc0\\\\u65c5\\\\u6e38\\\\u6d88\\\\u8d39': 0.0,\n",
       " '\\\\u533a\\\\u57df\\\\u53d1\\\\u5c55': 0.05,\n",
       " '\\\\u571f\\\\u5730': 0.004347826086956522,\n",
       " '\\\\u57fa\\\\u7840\\\\u8bbe\\\\u65bd': 0.6130374396135266,\n",
       " '\\\\u5b89\\\\u5168\\\\u4fdd\\\\u969c': 0.018333333333333333,\n",
       " '\\\\u6295\\\\u8d44': 0.0,\n",
       " '\\\\u63d0\\\\u9ad8\\\\u5c45\\\\u6c11\\\\u6536\\\\u5165': 0.0,\n",
       " '\\\\u63d0\\\\u9ad8\\\\u5c45\\\\u6c11\\\\u751f\\\\u6d3b\\\\u4fdd\\\\u969c': 0.0,\n",
       " '\\\\u653f\\\\u5e9c\\\\u5de5\\\\u4f5c': 0.05500000000000001,\n",
       " '\\\\u653f\\\\u7b56\\\\u843d\\\\u5b9e': 0.01666666666666667,\n",
       " '\\\\u6587\\\\u5316\\\\u8d44\\\\u6e90': 0.0,\n",
       " '\\\\u65c5\\\\u6e38\\\\u4e1a\\\\u4f9b\\\\u7ed9': 0.0,\n",
       " '\\\\u73af\\\\u5883': 0.11480676328502418,\n",
       " '\\\\u79d1\\\\u6280\\\\u4e0e\\\\u79d1\\\\u7814': 0.019347826086956524,\n",
       " '\\\\u7ec4\\\\u7ec7\\\\u5efa\\\\u8bbe': 0.0,\n",
       " '\\\\u884c\\\\u4e1a\\\\u89c4\\\\u8303\\\\u4e0e\\\\u5f15\\\\u5bfc': 0.03291666666666667,\n",
       " '\\\\u89c4\\\\u5212\\\\u6307\\\\u5bfc': 0.029710144927536233,\n",
       " '\\\\u8d22\\\\u653f': 0.0125}"
      ]
     },
     "execution_count": 177,
     "metadata": {},
     "output_type": "execute_result"
    }
   ],
   "source": [
    "{\"\\u8d22\\u653f\": 0.0125, \"\\u4eba\\u624d\": 0.0, \"\\u571f\\u5730\": 0.004347826086956522, \"\\u79d1\\u6280\\u4e0e\\u79d1\\u7814\": 0.019347826086956524, \"\\u65c5\\u6e38\\u4e1a\\u4f9b\\u7ed9\": 0.0, \"\\u7ec4\\u7ec7\\u5efa\\u8bbe\": 0.0, \"\\u63d0\\u9ad8\\u5c45\\u6c11\\u6536\\u5165\": 0.0, \"\\u653f\\u7b56\\u843d\\u5b9e\": 0.01666666666666667, \"\\u6587\\u5316\\u8d44\\u6e90\": 0.0, \"\\u523a\\u6fc0\\u65c5\\u6e38\\u6d88\\u8d39\": 0.0, \"\\u89c4\\u5212\\u6307\\u5bfc\": 0.029710144927536233, \"\\u6295\\u8d44\": 0.0, \"\\u5176\\u4ed6\\u4ea7\\u4e1a\\u652f\\u6301\": 0.03333333333333334, \"\\u4fc3\\u8fdb\\u5c45\\u6c11\\u6d88\\u8d39\": 0.0, \"\\u73af\\u5883\": 0.11480676328502418, \"\\u653f\\u5e9c\\u5de5\\u4f5c\": 0.05500000000000001, \"\\u533a\\u57df\\u53d1\\u5c55\": 0.05, \"\\u5b89\\u5168\\u4fdd\\u969c\": 0.018333333333333333, \"\\u63d0\\u9ad8\\u5c45\\u6c11\\u751f\\u6d3b\\u4fdd\\u969c\": 0.0, \"\\u884c\\u4e1a\\u89c4\\u8303\\u4e0e\\u5f15\\u5bfc\": 0.03291666666666667, \"\\u57fa\\u7840\\u8bbe\\u65bd\": 0.6130374396135266}"
   ]
  },
  {
   "cell_type": "code",
   "execution_count": 180,
   "metadata": {},
   "outputs": [
    {
     "name": "stdout",
     "output_type": "stream",
     "text": [
      "人才\n"
     ]
    }
   ],
   "source": []
  },
  {
   "cell_type": "code",
   "execution_count": null,
   "metadata": {},
   "outputs": [],
   "source": []
  }
 ],
 "metadata": {
  "kernelspec": {
   "display_name": "Python 2",
   "language": "python",
   "name": "python2"
  },
  "language_info": {
   "codemirror_mode": {
    "name": "ipython",
    "version": 2
   },
   "file_extension": ".py",
   "mimetype": "text/x-python",
   "name": "python",
   "nbconvert_exporter": "python",
   "pygments_lexer": "ipython2",
   "version": "2.7.18"
  }
 },
 "nbformat": 4,
 "nbformat_minor": 2
}
